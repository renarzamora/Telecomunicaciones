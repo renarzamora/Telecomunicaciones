{
 "cells": [
  {
   "attachments": {},
   "cell_type": "markdown",
   "metadata": {},
   "source": [
    "# ETL Comunicaciones"
   ]
  },
  {
   "cell_type": "code",
   "execution_count": 1,
   "metadata": {},
   "outputs": [],
   "source": [
    "import pandas as pd\n",
    "import numpy as np\n",
    "\n",
    "   "
   ]
  },
  {
   "cell_type": "code",
   "execution_count": 2,
   "metadata": {},
   "outputs": [],
   "source": [
    "# Listado de localidades con conectividad a internet\n",
    "# Listado de localidades con conectividad a internet, con detalle por tipo de conexión.\n",
    "loc_tipo_conexion = pd.read_csv('http://api.datosabiertos.enacom.gob.ar/api/v2/datastreams/LISTA-DE-LOCAL-CON-CONEC/data.csv/?auth_key=eZTohl9jwoRZV0x8dvpFsal4JSvEaZAYrvtoMuBc')"
   ]
  },
  {
   "cell_type": "code",
   "execution_count": 3,
   "metadata": {},
   "outputs": [],
   "source": [
    "# Conectividad al servicio de Internet\n",
    "# Consulta las tecnologías disponibles en tu localidad para acceder al servicio de Internet fijo y móvil\n",
    "tecnologia_loc = pd.read_csv('http://api.datosabiertos.enacom.gob.ar/api/v2/datastreams/CONEC-AL-SERVI-DE-INTER/data.csv/?auth_key=eZTohl9jwoRZV0x8dvpFsal4JSvEaZAYrvtoMuBc')"
   ]
  },
  {
   "cell_type": "code",
   "execution_count": 4,
   "metadata": {},
   "outputs": [],
   "source": [
    "# Indicadores macroeconómicos\n",
    "# Inflación, divisas y producto interno bruto\n",
    "indicadores_macro = pd.read_csv('http://api.datosabiertos.enacom.gob.ar/api/v2/datastreams/INDIC-MACRO/data.csv/?auth_key=eZTohl9jwoRZV0x8dvpFsal4JSvEaZAYrvtoMuBc')\n"
   ]
  },
  {
   "cell_type": "code",
   "execution_count": 5,
   "metadata": {},
   "outputs": [],
   "source": [
    "# Ingresos por la operación del servicio de Internet fijo\n",
    "# Ingresos trimestrales de los operadores por el servicio de Internet fijo\n",
    "ingreso_internet_fijo_trimestral = pd.read_csv('http://api.datosabiertos.enacom.gob.ar/api/v2/datastreams/INGRE-POR-LA-OPERA-DEL/data.csv/?auth_key=eZTohl9jwoRZV0x8dvpFsal4JSvEaZAYrvtoMuBc')\n"
   ]
  },
  {
   "cell_type": "code",
   "execution_count": 6,
   "metadata": {},
   "outputs": [],
   "source": [
    "# Penetración del Internet fijo por provincia (accesos por cada 100 habitantes)\n",
    "# Penetración del servicio de Internet fijo (métrica: población)\n",
    "internet_fijo_poblacion = pd.read_csv('http://api.datosabiertos.enacom.gob.ar/api/v2/datastreams/PENET-DEL-INTER-FIJO-POR/data.csv/?auth_key=eZTohl9jwoRZV0x8dvpFsal4JSvEaZAYrvtoMuBc')\n"
   ]
  },
  {
   "cell_type": "code",
   "execution_count": 7,
   "metadata": {},
   "outputs": [],
   "source": [
    "# Penetración del Internet fijo por provincia (accesos por cada 100 hogares)\n",
    "# Penetración del servicio de Internet fijo (métrica: hogares)\n",
    "internet_fijo_hogar = pd.read_csv('http://api.datosabiertos.enacom.gob.ar/api/v2/datastreams/PENET-DEL-INTER-FIJO-51614/data.csv/?auth_key=eZTohl9jwoRZV0x8dvpFsal4JSvEaZAYrvtoMuBc')\n"
   ]
  },
  {
   "cell_type": "code",
   "execution_count": 8,
   "metadata": {},
   "outputs": [],
   "source": [
    "# Penetración nacional del Internet fijo\n",
    "# Series trimestrales de la penetración del Internet fijo en las métricas por cada 100 habitantes y por cada 100 hogares\n",
    "internet_fijo_poblacion_hogar = pd.read_csv('http://api.datosabiertos.enacom.gob.ar/api/v2/datastreams/PENET-NACIO-DEL-INTER-FIJO/data.csv/?auth_key=eZTohl9jwoRZV0x8dvpFsal4JSvEaZAYrvtoMuBc')\n"
   ]
  },
  {
   "cell_type": "code",
   "execution_count": 9,
   "metadata": {},
   "outputs": [],
   "source": [
    "# Velocidad media de bajada de Internet (nacional)\n",
    "# Serie histórica de la velocidad media de descarga de Internet nacional (trimestral)\n",
    "veloc_media_nacional = pd.read_csv('http://api.datosabiertos.enacom.gob.ar/api/v2/datastreams/VELOC-PROME-DE-BAJAD-51733/data.csv/?auth_key=eZTohl9jwoRZV0x8dvpFsal4JSvEaZAYrvtoMuBc')\n"
   ]
  },
  {
   "cell_type": "code",
   "execution_count": 10,
   "metadata": {},
   "outputs": [],
   "source": [
    "# Velocidad media de bajada de Internet fijo por provincia\n",
    "# Serie histórica de la velocidad media de descarga de Internet por provincia (trimestral)\n",
    "veloc_media_prov = pd.read_csv('http://api.datosabiertos.enacom.gob.ar/api/v2/datastreams/VELOC-PROME-DE-BAJAD-DE/data.csv/?auth_key=eZTohl9jwoRZV0x8dvpFsal4JSvEaZAYrvtoMuBc')\n"
   ]
  },
  {
   "cell_type": "code",
   "execution_count": 11,
   "metadata": {},
   "outputs": [],
   "source": [
    "# Acceso a Internet fijo por tecnología y provincia\n",
    "# Número de accesos al servicio de Internet fijo por tipo de tecnología en cada provincia (trimestral)\n",
    "internet_tecno_prov = pd.read_csv('http://api.datosabiertos.enacom.gob.ar/api/v2/datastreams/ACCES-A-INTER-FIJO-POR/data.csv/?auth_key=eZTohl9jwoRZV0x8dvpFsal4JSvEaZAYrvtoMuBc')\n"
   ]
  },
  {
   "cell_type": "code",
   "execution_count": 12,
   "metadata": {},
   "outputs": [],
   "source": [
    "# Total nacional de accesos a Internet fijo por tipo de tecnología\n",
    "# Número total de accesos al servicio de Internet fijo por tipo de tecnología (trimestral)\n",
    "internet_tecno_nacional = pd.read_csv('http://api.datosabiertos.enacom.gob.ar/api/v2/datastreams/TOTAL-NACIO-DE-ACCES-A/data.csv/?auth_key=eZTohl9jwoRZV0x8dvpFsal4JSvEaZAYrvtoMuBc')\n"
   ]
  },
  {
   "cell_type": "code",
   "execution_count": 13,
   "metadata": {},
   "outputs": [],
   "source": [
    "# Total nacional de accesos a Internet fijo por banda ancha y banda angosta\n",
    "# Número total de accesos al servicio de Internet fijo por banda ancha y banda angosta (trimestral)\n",
    "internet_bancha_bangosta = pd.read_csv('http://api.datosabiertos.enacom.gob.ar/api/v2/datastreams/TOTAL-NACIO-DE-ACCES-48866/data.csv/?auth_key=eZTohl9jwoRZV0x8dvpFsal4JSvEaZAYrvtoMuBc')\n"
   ]
  },
  {
   "cell_type": "code",
   "execution_count": 14,
   "metadata": {},
   "outputs": [],
   "source": [
    "# Accesos a banda ancha y banda angosta por provincia\n",
    "# Número de accesos al servicio de Internet fijo por banda ancha y banda angosta en cada provincia (trimestral)\n",
    "internet_bancha_bangosta_prov = pd.read_csv('http://api.datosabiertos.enacom.gob.ar/api/v2/datastreams/BANDA-ANCHA-Y-BANDA-ANGOS/data.csv/?auth_key=eZTohl9jwoRZV0x8dvpFsal4JSvEaZAYrvtoMuBc')\n"
   ]
  },
  {
   "cell_type": "code",
   "execution_count": 15,
   "metadata": {},
   "outputs": [],
   "source": [
    "# Acceso a Internet Fijo por rangos de velocidad de bajada y provincia\n",
    "# Número de accesos al servicio de Internet fijo por velocidad de bajada en cada provincia (trimestral)\n",
    "internet_rango_vel_prov = pd.read_csv('http://api.datosabiertos.enacom.gob.ar/api/v2/datastreams/ACCES-A-INTER-FIJO-23248/data.csv/?auth_key=eZTohl9jwoRZV0x8dvpFsal4JSvEaZAYrvtoMuBc')\n"
   ]
  },
  {
   "cell_type": "code",
   "execution_count": 16,
   "metadata": {},
   "outputs": [],
   "source": [
    "# Total nacional de accesos a Internet fijo por velocidad de bajada\n",
    "# Número total de accesos al servicio de Internet fijo por velocidad de bajada (trimestral)\n",
    "internet_rango_vel = pd.read_csv('http://api.datosabiertos.enacom.gob.ar/api/v2/datastreams/TOTAL-NACIO-DE-ACCES-32663/data.csv/?auth_key=eZTohl9jwoRZV0x8dvpFsal4JSvEaZAYrvtoMuBc')\n"
   ]
  },
  {
   "cell_type": "code",
   "execution_count": 17,
   "metadata": {},
   "outputs": [],
   "source": [
    "# Accesos a Internet fijo por tecnología y localidad\n",
    "# Número de accesos al servicio de Internet fijo por tecnología en cada localidad declarada Categoría\n",
    "internet_fijo_tecno_loc = pd.read_csv('http://api.datosabiertos.enacom.gob.ar/api/v2/datastreams/ACCES-A-INTER-FIJO-62463/data.csv/?auth_key=eZTohl9jwoRZV0x8dvpFsal4JSvEaZAYrvtoMuBc')\n"
   ]
  },
  {
   "cell_type": "code",
   "execution_count": 18,
   "metadata": {},
   "outputs": [],
   "source": [
    "# Accesos a Internet fijo por velocidad bajada y provincia\n",
    "# Número de accesos al servicio de Internet fijo por velocidad de bajada en cada provincia\n",
    "internet_fijo_veloc_bajada_prov = pd.read_csv('http://api.datosabiertos.enacom.gob.ar/api/v2/datastreams/ACCES-A-INTER-FIJO-97624/data.csv/?auth_key=eZTohl9jwoRZV0x8dvpFsal4JSvEaZAYrvtoMuBc')\n"
   ]
  },
  {
   "cell_type": "code",
   "execution_count": 19,
   "metadata": {},
   "outputs": [],
   "source": [
    "# Accesos a Internet fijo por velocidad de bajada y localidad\n",
    "# Número de accesos al servicio de Internet fijo por velocidad de bajada en cada localidad declarada\n",
    "internet_fijo_veloc_bajada_loc = pd.read_csv('http://api.datosabiertos.enacom.gob.ar/api/v2/datastreams/ACCES-A-INTER-FIJO-16249/data.csv/?auth_key=eZTohl9jwoRZV0x8dvpFsal4JSvEaZAYrvtoMuBc')\n"
   ]
  },
  {
   "cell_type": "code",
   "execution_count": 21,
   "metadata": {},
   "outputs": [],
   "source": [
    "# Descarga\n",
    "loc_tipo_conexion.to_csv('C:/Soy-Henry/Telecomunicaciones/Data/loc_tipo_conexion.csv',index=False)\n",
    "tecnologia_loc.to_csv('C:/Soy-Henry/Telecomunicaciones/Data/tecnologia_loc.csv',index=False)\n",
    "indicadores_macro.to_csv('C:/Soy-Henry/Telecomunicaciones/Data/indicadores_macro.csv',index=False)\n",
    "ingreso_internet_fijo_trimestral.to_csv('C:/Soy-Henry/Telecomunicaciones/Data/ingreso_internet_fijo_trimestral.csv',index=False)\n",
    "internet_fijo_poblacion.to_csv('C:/Soy-Henry/Telecomunicaciones/Data/internet_fijo_poblacion.csv',index=False)\n",
    "internet_fijo_hogar.to_csv('C:/Soy-Henry/Telecomunicaciones/Data/internet_fijo_hogar.csv',index=False)\n",
    "internet_fijo_poblacion_hogar.to_csv('C:/Soy-Henry/Telecomunicaciones/Data/internet_fijo_poblacion_hogar.csv',index=False)\n",
    "veloc_media_nacional.to_csv('C:/Soy-Henry/Telecomunicaciones/Data/veloc_media_nacional.csv',index=False)\n",
    "veloc_media_prov.to_csv('C:/Soy-Henry/Telecomunicaciones/Data/veloc_media_prov.csv',index=False)\n",
    "internet_tecno_prov.to_csv('C:/Soy-Henry/Telecomunicaciones/Data/internet_tecno_prov.csv',index=False)\n",
    "internet_tecno_nacional.to_csv('C:/Soy-Henry/Telecomunicaciones/Data/internet_tecno_nacional.csv',index=False)\n",
    "internet_bancha_bangosta.to_csv('C:/Soy-Henry/Telecomunicaciones/Data/internet_bancha_bangosta.csv',index=False)\n",
    "internet_bancha_bangosta_prov.to_csv('C:/Soy-Henry/Telecomunicaciones/Data/internet_bancha_bangosta_prov.csv',index=False)\n",
    "internet_rango_vel_prov.to_csv('C:/Soy-Henry/Telecomunicaciones/Data/internet_rango_vel_prov.csv',index=False)\n",
    "internet_rango_vel.to_csv('C:/Soy-Henry/Telecomunicaciones/Data/internet_rango_vel.csv',index=False)\n",
    "internet_fijo_tecno_loc.to_csv('C:/Soy-Henry/Telecomunicaciones/Data/internet_fijo_tecno_loc.csv',index=False)\n",
    "internet_fijo_veloc_bajada_prov.to_csv('C:/Soy-Henry/Telecomunicaciones/Data/internet_fijo_veloc_bajada_prov.csv',index=False)\n",
    "internet_fijo_veloc_bajada_loc.to_csv('C:/Soy-Henry/Telecomunicaciones/Data/internet_fijo_veloc_bajada_loc.csv',index=False)"
   ]
  },
  {
   "cell_type": "code",
   "execution_count": 78,
   "metadata": {},
   "outputs": [
    {
     "data": {
      "text/html": [
       "<div>\n",
       "<style scoped>\n",
       "    .dataframe tbody tr th:only-of-type {\n",
       "        vertical-align: middle;\n",
       "    }\n",
       "\n",
       "    .dataframe tbody tr th {\n",
       "        vertical-align: top;\n",
       "    }\n",
       "\n",
       "    .dataframe thead th {\n",
       "        text-align: right;\n",
       "    }\n",
       "</style>\n",
       "<table border=\"1\" class=\"dataframe\">\n",
       "  <thead>\n",
       "    <tr style=\"text-align: right;\">\n",
       "      <th></th>\n",
       "      <th>Unnamed: 0</th>\n",
       "      <th>Partido</th>\n",
       "      <th>Localidad</th>\n",
       "      <th>ADSL</th>\n",
       "      <th>Unnamed: 4</th>\n",
       "      <th>DIALUP</th>\n",
       "      <th>FIBRAOPTICA</th>\n",
       "      <th>4G</th>\n",
       "      <th>Unnamed: 8</th>\n",
       "      <th>TELEFONIAFIJA</th>\n",
       "      <th>Unnamed: 10</th>\n",
       "      <th>SATELITAL</th>\n",
       "    </tr>\n",
       "  </thead>\n",
       "  <tbody>\n",
       "    <tr>\n",
       "      <th>0</th>\n",
       "      <td>NaN</td>\n",
       "      <td>Bahía Blanca</td>\n",
       "      <td>Villa Bordeau</td>\n",
       "      <td>NaN</td>\n",
       "      <td>NaN</td>\n",
       "      <td>--</td>\n",
       "      <td>--</td>\n",
       "      <td>NaN</td>\n",
       "      <td>NaN</td>\n",
       "      <td>--</td>\n",
       "      <td>NaN</td>\n",
       "      <td>--</td>\n",
       "    </tr>\n",
       "    <tr>\n",
       "      <th>1</th>\n",
       "      <td>BUENOS AIRES</td>\n",
       "      <td>NaN</td>\n",
       "      <td>Villa Espora</td>\n",
       "      <td>--</td>\n",
       "      <td>--</td>\n",
       "      <td>NaN</td>\n",
       "      <td>--</td>\n",
       "      <td>--</td>\n",
       "      <td>--</td>\n",
       "      <td>NaN</td>\n",
       "      <td>--</td>\n",
       "      <td>NaN</td>\n",
       "    </tr>\n",
       "    <tr>\n",
       "      <th>2</th>\n",
       "      <td>BUENOS AIRES</td>\n",
       "      <td>NaN</td>\n",
       "      <td>NaN</td>\n",
       "      <td>SI</td>\n",
       "      <td>SI</td>\n",
       "      <td>NaN</td>\n",
       "      <td>NaN</td>\n",
       "      <td>SI</td>\n",
       "      <td>SI</td>\n",
       "      <td>NaN</td>\n",
       "      <td>SI</td>\n",
       "      <td>NaN</td>\n",
       "    </tr>\n",
       "  </tbody>\n",
       "</table>\n",
       "</div>"
      ],
      "text/plain": [
       "     Unnamed: 0       Partido      Localidad ADSL Unnamed: 4 DIALUP  \\\n",
       "0           NaN  Bahía Blanca  Villa Bordeau  NaN        NaN     --   \n",
       "1  BUENOS AIRES           NaN   Villa Espora   --         --    NaN   \n",
       "2  BUENOS AIRES           NaN            NaN   SI         SI    NaN   \n",
       "\n",
       "  FIBRAOPTICA   4G Unnamed: 8 TELEFONIAFIJA Unnamed: 10 SATELITAL  \n",
       "0          --  NaN        NaN            --         NaN        --  \n",
       "1          --   --         --           NaN          --       NaN  \n",
       "2         NaN   SI         SI           NaN          SI       NaN  "
      ]
     },
     "execution_count": 78,
     "metadata": {},
     "output_type": "execute_result"
    }
   ],
   "source": [
    "df_tipo_conexion=pd.read_csv('C:/Soy-Henry/Telecomunicaciones/Data/loc_tipo_conexion.csv')\n",
    "df_tipo_conexion.head(3)"
   ]
  },
  {
   "cell_type": "code",
   "execution_count": 24,
   "metadata": {},
   "outputs": [
    {
     "name": "stdout",
     "output_type": "stream",
     "text": [
      "<class 'pandas.core.frame.DataFrame'>\n",
      "RangeIndex: 4312 entries, 0 to 4311\n",
      "Data columns (total 12 columns):\n",
      " #   Column         Non-Null Count  Dtype \n",
      "---  ------         --------------  ----- \n",
      " 0   Unnamed: 0     2876 non-null   object\n",
      " 1   Partido        2880 non-null   object\n",
      " 2   Localidad      2866 non-null   object\n",
      " 3   ADSL           2868 non-null   object\n",
      " 4   Unnamed: 4     2876 non-null   object\n",
      " 5   DIALUP         2888 non-null   object\n",
      " 6   FIBRAOPTICA    2868 non-null   object\n",
      " 7   4G             2862 non-null   object\n",
      " 8   Unnamed: 8     2881 non-null   object\n",
      " 9   TELEFONIAFIJA  2885 non-null   object\n",
      " 10  Unnamed: 10    2868 non-null   object\n",
      " 11  SATELITAL      2878 non-null   object\n",
      "dtypes: object(12)\n",
      "memory usage: 404.4+ KB\n"
     ]
    }
   ],
   "source": [
    "df_tipo_conexion.info()"
   ]
  },
  {
   "cell_type": "code",
   "execution_count": 25,
   "metadata": {},
   "outputs": [
    {
     "data": {
      "text/html": [
       "<div>\n",
       "<style scoped>\n",
       "    .dataframe tbody tr th:only-of-type {\n",
       "        vertical-align: middle;\n",
       "    }\n",
       "\n",
       "    .dataframe tbody tr th {\n",
       "        vertical-align: top;\n",
       "    }\n",
       "\n",
       "    .dataframe thead th {\n",
       "        text-align: right;\n",
       "    }\n",
       "</style>\n",
       "<table border=\"1\" class=\"dataframe\">\n",
       "  <thead>\n",
       "    <tr style=\"text-align: right;\">\n",
       "      <th></th>\n",
       "      <th>Unnamed: 0</th>\n",
       "      <th>Partido</th>\n",
       "      <th>Localidad</th>\n",
       "      <th>ADSL</th>\n",
       "      <th>Unnamed: 4</th>\n",
       "      <th>DIALUP</th>\n",
       "      <th>FIBRAOPTICA</th>\n",
       "      <th>4G</th>\n",
       "      <th>Unnamed: 8</th>\n",
       "      <th>TELEFONIAFIJA</th>\n",
       "      <th>Unnamed: 10</th>\n",
       "      <th>SATELITAL</th>\n",
       "    </tr>\n",
       "  </thead>\n",
       "  <tbody>\n",
       "    <tr>\n",
       "      <th>count</th>\n",
       "      <td>2876</td>\n",
       "      <td>2880</td>\n",
       "      <td>2866</td>\n",
       "      <td>2868</td>\n",
       "      <td>2876</td>\n",
       "      <td>2888</td>\n",
       "      <td>2868</td>\n",
       "      <td>2862</td>\n",
       "      <td>2881</td>\n",
       "      <td>2885</td>\n",
       "      <td>2868</td>\n",
       "      <td>2878</td>\n",
       "    </tr>\n",
       "    <tr>\n",
       "      <th>unique</th>\n",
       "      <td>24</td>\n",
       "      <td>427</td>\n",
       "      <td>2677</td>\n",
       "      <td>2</td>\n",
       "      <td>2</td>\n",
       "      <td>2</td>\n",
       "      <td>2</td>\n",
       "      <td>2</td>\n",
       "      <td>2</td>\n",
       "      <td>2</td>\n",
       "      <td>2</td>\n",
       "      <td>2</td>\n",
       "    </tr>\n",
       "    <tr>\n",
       "      <th>top</th>\n",
       "      <td>BUENOS AIRES</td>\n",
       "      <td>General Roca</td>\n",
       "      <td>San Pedro</td>\n",
       "      <td>--</td>\n",
       "      <td>--</td>\n",
       "      <td>--</td>\n",
       "      <td>--</td>\n",
       "      <td>SI</td>\n",
       "      <td>--</td>\n",
       "      <td>SI</td>\n",
       "      <td>SI</td>\n",
       "      <td>--</td>\n",
       "    </tr>\n",
       "    <tr>\n",
       "      <th>freq</th>\n",
       "      <td>599</td>\n",
       "      <td>60</td>\n",
       "      <td>8</td>\n",
       "      <td>2114</td>\n",
       "      <td>2286</td>\n",
       "      <td>2614</td>\n",
       "      <td>1907</td>\n",
       "      <td>1723</td>\n",
       "      <td>1609</td>\n",
       "      <td>1455</td>\n",
       "      <td>1457</td>\n",
       "      <td>2151</td>\n",
       "    </tr>\n",
       "  </tbody>\n",
       "</table>\n",
       "</div>"
      ],
      "text/plain": [
       "          Unnamed: 0       Partido  Localidad  ADSL Unnamed: 4 DIALUP  \\\n",
       "count           2876          2880       2866  2868       2876   2888   \n",
       "unique            24           427       2677     2          2      2   \n",
       "top     BUENOS AIRES  General Roca  San Pedro    --         --     --   \n",
       "freq             599            60          8  2114       2286   2614   \n",
       "\n",
       "       FIBRAOPTICA    4G Unnamed: 8 TELEFONIAFIJA Unnamed: 10 SATELITAL  \n",
       "count         2868  2862       2881          2885        2868      2878  \n",
       "unique           2     2          2             2           2         2  \n",
       "top             --    SI         --            SI          SI        --  \n",
       "freq          1907  1723       1609          1455        1457      2151  "
      ]
     },
     "execution_count": 25,
     "metadata": {},
     "output_type": "execute_result"
    }
   ],
   "source": [
    "df_tipo_conexion.describe()"
   ]
  },
  {
   "cell_type": "code",
   "execution_count": 33,
   "metadata": {},
   "outputs": [
    {
     "data": {
      "text/plain": [
       "array([nan, 'BUENOS AIRES', 'CHUBUT', 'MISIONES', 'CABA', 'CHACO',\n",
       "       'CORDOBA', 'ENTRE RIOS', 'RIO NEGRO', 'FORMOSA', 'LA PAMPA',\n",
       "       'MENDOZA', 'NEUQUEN', 'SALTA', 'SAN JUAN', 'SAN LUIS', 'SANTA FE',\n",
       "       'SANTIAGO DEL ESTERO', 'TUCUMAN', 'TIERRA DEL FUEGO', 'SANTA CRUZ',\n",
       "       'JUJUY', 'LA RIOJA', 'CORRIENTES', 'CATAMARCA'], dtype=object)"
      ]
     },
     "execution_count": 33,
     "metadata": {},
     "output_type": "execute_result"
    }
   ],
   "source": [
    "df_tipo_conexion['Unnamed: 0'].unique() # cambiar nombre de columnas por Provincias"
   ]
  },
  {
   "cell_type": "code",
   "execution_count": 79,
   "metadata": {},
   "outputs": [],
   "source": [
    "# renombro columna 'Unnamed: 0' por 'Provincias'\n",
    "df_tipo_conexion.rename(columns={'Unnamed: 0':'Provincias'},index={0:4311},inplace=True) "
   ]
  },
  {
   "cell_type": "code",
   "execution_count": 137,
   "metadata": {},
   "outputs": [],
   "source": [
    "# Elimino columnas con valores nulos, columnas sin posibilidad de indentificar\n",
    "df_tipo_conexion.drop(columns= [\"Unnamed: 4\"],inplace=True)\n",
    "df_tipo_conexion.drop(columns= [\"Unnamed: 8\"],inplace=True)\n",
    "df_tipo_conexion.drop(columns= [\"Unnamed: 10\"],inplace=True)"
   ]
  },
  {
   "cell_type": "code",
   "execution_count": 139,
   "metadata": {},
   "outputs": [],
   "source": [
    "df_tipo_conexion.to_csv('C:/Soy-Henry/Telecomunicaciones/Data/loc_tipo_conexion.csv',index=False)"
   ]
  },
  {
   "cell_type": "code",
   "execution_count": 4,
   "metadata": {},
   "outputs": [
    {
     "data": {
      "text/html": [
       "<div>\n",
       "<style scoped>\n",
       "    .dataframe tbody tr th:only-of-type {\n",
       "        vertical-align: middle;\n",
       "    }\n",
       "\n",
       "    .dataframe tbody tr th {\n",
       "        vertical-align: top;\n",
       "    }\n",
       "\n",
       "    .dataframe thead th {\n",
       "        text-align: right;\n",
       "    }\n",
       "</style>\n",
       "<table border=\"1\" class=\"dataframe\">\n",
       "  <thead>\n",
       "    <tr style=\"text-align: right;\">\n",
       "      <th></th>\n",
       "      <th>Año</th>\n",
       "      <th>Trimestre</th>\n",
       "      <th>Provincia</th>\n",
       "      <th>Mbps (Media de bajada)</th>\n",
       "      <th>Unnamed: 4</th>\n",
       "      <th>Unnamed: 5</th>\n",
       "    </tr>\n",
       "  </thead>\n",
       "  <tbody>\n",
       "    <tr>\n",
       "      <th>0</th>\n",
       "      <td>2022</td>\n",
       "      <td>3</td>\n",
       "      <td>Buenos Aires</td>\n",
       "      <td>70</td>\n",
       "      <td>NaN</td>\n",
       "      <td>NaN</td>\n",
       "    </tr>\n",
       "    <tr>\n",
       "      <th>1</th>\n",
       "      <td>2022</td>\n",
       "      <td>3</td>\n",
       "      <td>Capital Federal</td>\n",
       "      <td>101</td>\n",
       "      <td>NaN</td>\n",
       "      <td>NaN</td>\n",
       "    </tr>\n",
       "    <tr>\n",
       "      <th>2</th>\n",
       "      <td>2022</td>\n",
       "      <td>3</td>\n",
       "      <td>Catamarca</td>\n",
       "      <td>61</td>\n",
       "      <td>NaN</td>\n",
       "      <td>NaN</td>\n",
       "    </tr>\n",
       "  </tbody>\n",
       "</table>\n",
       "</div>"
      ],
      "text/plain": [
       "    Año  Trimestre        Provincia  Mbps (Media de bajada)  Unnamed: 4  \\\n",
       "0  2022          3     Buenos Aires                      70         NaN   \n",
       "1  2022          3  Capital Federal                     101         NaN   \n",
       "2  2022          3        Catamarca                      61         NaN   \n",
       "\n",
       "   Unnamed: 5  \n",
       "0         NaN  \n",
       "1         NaN  \n",
       "2         NaN  "
      ]
     },
     "execution_count": 4,
     "metadata": {},
     "output_type": "execute_result"
    }
   ],
   "source": [
    "veloc_media_prov = pd.read_csv('C:/Soy-Henry/Telecomunicaciones/Data/veloc_media_prov.csv')\n",
    "veloc_media_prov.head(3)"
   ]
  },
  {
   "cell_type": "code",
   "execution_count": null,
   "metadata": {},
   "outputs": [],
   "source": [
    "veloc_media_prov.info()"
   ]
  },
  {
   "cell_type": "code",
   "execution_count": 7,
   "metadata": {},
   "outputs": [],
   "source": [
    "veloc_media_prov.drop(columns= [\"Unnamed: 4\"],inplace=True)\n",
    "veloc_media_prov.drop(columns= [\"Unnamed: 5\"],inplace=True)"
   ]
  },
  {
   "cell_type": "code",
   "execution_count": 3,
   "metadata": {},
   "outputs": [
    {
     "data": {
      "text/html": [
       "<div>\n",
       "<style scoped>\n",
       "    .dataframe tbody tr th:only-of-type {\n",
       "        vertical-align: middle;\n",
       "    }\n",
       "\n",
       "    .dataframe tbody tr th {\n",
       "        vertical-align: top;\n",
       "    }\n",
       "\n",
       "    .dataframe thead th {\n",
       "        text-align: right;\n",
       "    }\n",
       "</style>\n",
       "<table border=\"1\" class=\"dataframe\">\n",
       "  <thead>\n",
       "    <tr style=\"text-align: right;\">\n",
       "      <th></th>\n",
       "      <th>Año</th>\n",
       "      <th>Trimestre</th>\n",
       "      <th>Hasta 512 kbps</th>\n",
       "      <th>Entre 512 Kbps y 1 Mbps</th>\n",
       "      <th>Entre 1 Mbps y 6 Mbps</th>\n",
       "      <th>Entre 6 Mbps y 10 Mbps</th>\n",
       "      <th>Entre 10 Mbps y 20 Mbps</th>\n",
       "      <th>Entre 20 Mbps y 30 Mbps</th>\n",
       "      <th>Más de 30 Mbps</th>\n",
       "      <th>OTROS</th>\n",
       "    </tr>\n",
       "  </thead>\n",
       "  <tbody>\n",
       "    <tr>\n",
       "      <th>0</th>\n",
       "      <td>2022</td>\n",
       "      <td>3</td>\n",
       "      <td>33013</td>\n",
       "      <td>96727</td>\n",
       "      <td>1161370</td>\n",
       "      <td>1151906</td>\n",
       "      <td>823505</td>\n",
       "      <td>479822</td>\n",
       "      <td>6995750</td>\n",
       "      <td>349035</td>\n",
       "    </tr>\n",
       "    <tr>\n",
       "      <th>1</th>\n",
       "      <td>2022</td>\n",
       "      <td>2</td>\n",
       "      <td>33667</td>\n",
       "      <td>99498</td>\n",
       "      <td>1193090</td>\n",
       "      <td>1197030</td>\n",
       "      <td>856562</td>\n",
       "      <td>485321</td>\n",
       "      <td>6741922</td>\n",
       "      <td>351594</td>\n",
       "    </tr>\n",
       "    <tr>\n",
       "      <th>2</th>\n",
       "      <td>2022</td>\n",
       "      <td>1</td>\n",
       "      <td>3489</td>\n",
       "      <td>10484</td>\n",
       "      <td>1263273</td>\n",
       "      <td>1209148</td>\n",
       "      <td>967508</td>\n",
       "      <td>509830</td>\n",
       "      <td>6336187</td>\n",
       "      <td>198333</td>\n",
       "    </tr>\n",
       "  </tbody>\n",
       "</table>\n",
       "</div>"
      ],
      "text/plain": [
       "    Año  Trimestre  Hasta 512 kbps  Entre 512 Kbps y 1 Mbps  \\\n",
       "0  2022          3           33013                    96727   \n",
       "1  2022          2           33667                    99498   \n",
       "2  2022          1            3489                    10484   \n",
       "\n",
       "   Entre 1 Mbps y 6 Mbps  Entre 6 Mbps y 10 Mbps  Entre 10 Mbps y 20 Mbps  \\\n",
       "0                1161370                 1151906                   823505   \n",
       "1                1193090                 1197030                   856562   \n",
       "2                1263273                 1209148                   967508   \n",
       "\n",
       "   Entre 20 Mbps y 30 Mbps  Más de 30 Mbps   OTROS  \n",
       "0                   479822         6995750  349035  \n",
       "1                   485321         6741922  351594  \n",
       "2                   509830         6336187  198333  "
      ]
     },
     "execution_count": 3,
     "metadata": {},
     "output_type": "execute_result"
    }
   ],
   "source": [
    "internet_rango_vel = pd.read_csv('C:/Soy-Henry/Telecomunicaciones/Data/internet_rango_vel.csv')\n",
    "internet_rango_vel.head(3)"
   ]
  },
  {
   "cell_type": "code",
   "execution_count": null,
   "metadata": {},
   "outputs": [],
   "source": [
    "internet_fijo_hogar['Accesos por cada 100 hogares'] = internet_fijo_hogar['Accesos por cada 100 hogares'].str.replace(',', '.')\n",
    "internet_fijo_hogar['Accesos por cada 100 hogares'] = internet_fijo_hogar['Accesos por cada 100 hogares'].astype(float)\n",
    "internet_fijo_hogar.to_csv('C:/Soy-Henry/Telecomunicaciones/Data/internet_fijo_hogar.csv',index=False)"
   ]
  },
  {
   "cell_type": "code",
   "execution_count": 21,
   "metadata": {},
   "outputs": [],
   "source": [
    "internet_rango_vel.drop(columns= [\"Unnamed: 11\"],inplace=True)"
   ]
  },
  {
   "cell_type": "code",
   "execution_count": 23,
   "metadata": {},
   "outputs": [
    {
     "data": {
      "text/html": [
       "<div>\n",
       "<style scoped>\n",
       "    .dataframe tbody tr th:only-of-type {\n",
       "        vertical-align: middle;\n",
       "    }\n",
       "\n",
       "    .dataframe tbody tr th {\n",
       "        vertical-align: top;\n",
       "    }\n",
       "\n",
       "    .dataframe thead th {\n",
       "        text-align: right;\n",
       "    }\n",
       "</style>\n",
       "<table border=\"1\" class=\"dataframe\">\n",
       "  <thead>\n",
       "    <tr style=\"text-align: right;\">\n",
       "      <th></th>\n",
       "      <th>Año</th>\n",
       "      <th>Trimestre</th>\n",
       "      <th>Provincia</th>\n",
       "      <th>Otros</th>\n",
       "      <th>0,256 Mbps</th>\n",
       "      <th>0,375 Mbps</th>\n",
       "      <th>0,625 Mbps</th>\n",
       "      <th>0,5 Mbps</th>\n",
       "      <th>0,512 Mbps</th>\n",
       "      <th>0,75 Mbps</th>\n",
       "      <th>...</th>\n",
       "      <th>70 Mbps</th>\n",
       "      <th>71 Mbps</th>\n",
       "      <th>75 Mbps</th>\n",
       "      <th>77 Mbps</th>\n",
       "      <th>78 Mbps</th>\n",
       "      <th>80 Mbps</th>\n",
       "      <th>81 Mbps</th>\n",
       "      <th>83 Mbps</th>\n",
       "      <th>82 Mbps</th>\n",
       "      <th>86 Mbps</th>\n",
       "    </tr>\n",
       "  </thead>\n",
       "  <tbody>\n",
       "    <tr>\n",
       "      <th>0</th>\n",
       "      <td>2022.0</td>\n",
       "      <td>3.0</td>\n",
       "      <td>Buenos Aires</td>\n",
       "      <td>65,821</td>\n",
       "      <td>19</td>\n",
       "      <td>- 0</td>\n",
       "      <td>- 0</td>\n",
       "      <td>29,774</td>\n",
       "      <td>192</td>\n",
       "      <td>4,611</td>\n",
       "      <td>...</td>\n",
       "      <td>3,163</td>\n",
       "      <td>- 0</td>\n",
       "      <td>98,387</td>\n",
       "      <td>- 0</td>\n",
       "      <td>2</td>\n",
       "      <td>223</td>\n",
       "      <td>- 0</td>\n",
       "      <td>1</td>\n",
       "      <td>- 0</td>\n",
       "      <td>- 0</td>\n",
       "    </tr>\n",
       "    <tr>\n",
       "      <th>1</th>\n",
       "      <td>2022.0</td>\n",
       "      <td>3.0</td>\n",
       "      <td>Capital Federal</td>\n",
       "      <td>105,477</td>\n",
       "      <td>31</td>\n",
       "      <td>- 0</td>\n",
       "      <td>- 0</td>\n",
       "      <td>451</td>\n",
       "      <td>35</td>\n",
       "      <td>1,307</td>\n",
       "      <td>...</td>\n",
       "      <td>3</td>\n",
       "      <td>- 0</td>\n",
       "      <td>30,482</td>\n",
       "      <td>- 0</td>\n",
       "      <td>- 0</td>\n",
       "      <td>8</td>\n",
       "      <td>- 0</td>\n",
       "      <td>- 0</td>\n",
       "      <td>- 0</td>\n",
       "      <td>- 0</td>\n",
       "    </tr>\n",
       "    <tr>\n",
       "      <th>2</th>\n",
       "      <td>2022.0</td>\n",
       "      <td>3.0</td>\n",
       "      <td>Catamarca</td>\n",
       "      <td>2,208</td>\n",
       "      <td>- 0</td>\n",
       "      <td>- 0</td>\n",
       "      <td>- 0</td>\n",
       "      <td>34</td>\n",
       "      <td>37</td>\n",
       "      <td>- 0</td>\n",
       "      <td>...</td>\n",
       "      <td>- 0</td>\n",
       "      <td>- 0</td>\n",
       "      <td>- 0</td>\n",
       "      <td>- 0</td>\n",
       "      <td>- 0</td>\n",
       "      <td>- 0</td>\n",
       "      <td>- 0</td>\n",
       "      <td>- 0</td>\n",
       "      <td>- 0</td>\n",
       "      <td>- 0</td>\n",
       "    </tr>\n",
       "  </tbody>\n",
       "</table>\n",
       "<p>3 rows × 97 columns</p>\n",
       "</div>"
      ],
      "text/plain": [
       "      Año  Trimestre        Provincia    Otros 0,256 Mbps 0,375 Mbps  \\\n",
       "0  2022.0        3.0     Buenos Aires   65,821         19        - 0   \n",
       "1  2022.0        3.0  Capital Federal  105,477         31        - 0   \n",
       "2  2022.0        3.0        Catamarca    2,208        - 0        - 0   \n",
       "\n",
       "  0,625 Mbps 0,5 Mbps 0,512 Mbps 0,75 Mbps  ... 70 Mbps 71 Mbps 75 Mbps  \\\n",
       "0        - 0   29,774        192     4,611  ...   3,163     - 0  98,387   \n",
       "1        - 0      451         35     1,307  ...       3     - 0  30,482   \n",
       "2        - 0       34         37       - 0  ...     - 0     - 0     - 0   \n",
       "\n",
       "  77 Mbps 78 Mbps 80 Mbps 81 Mbps 83 Mbps 82 Mbps 86 Mbps  \n",
       "0     - 0       2     223     - 0       1     - 0     - 0  \n",
       "1     - 0     - 0       8     - 0     - 0     - 0     - 0  \n",
       "2     - 0     - 0     - 0     - 0     - 0     - 0     - 0  \n",
       "\n",
       "[3 rows x 97 columns]"
      ]
     },
     "execution_count": 23,
     "metadata": {},
     "output_type": "execute_result"
    }
   ],
   "source": [
    "internet_fijo_veloc_bajada_prov = pd.read_csv('C:/Soy-Henry/Telecomunicaciones/Data/internet_fijo_veloc_bajada_prov.csv')\n",
    "internet_fijo_veloc_bajada_prov.head(3)"
   ]
  },
  {
   "cell_type": "code",
   "execution_count": 24,
   "metadata": {},
   "outputs": [
    {
     "name": "stdout",
     "output_type": "stream",
     "text": [
      "<class 'pandas.core.frame.DataFrame'>\n",
      "RangeIndex: 481 entries, 0 to 480\n",
      "Data columns (total 97 columns):\n",
      " #   Column      Non-Null Count  Dtype  \n",
      "---  ------      --------------  -----  \n",
      " 0   Año         480 non-null    float64\n",
      " 1   Trimestre   480 non-null    float64\n",
      " 2   Provincia   480 non-null    object \n",
      " 3   Otros       480 non-null    object \n",
      " 4   0,256 Mbps  480 non-null    object \n",
      " 5   0,375 Mbps  480 non-null    object \n",
      " 6   0,625 Mbps  480 non-null    object \n",
      " 7   0,5 Mbps    480 non-null    object \n",
      " 8   0,512 Mbps  480 non-null    object \n",
      " 9   0,75 Mbps   480 non-null    object \n",
      " 10  1 Mbps      480 non-null    object \n",
      " 11  1,2 Mbps    480 non-null    object \n",
      " 12  1,25 Mbps   480 non-null    object \n",
      " 13  1,5 Mbps    480 non-null    object \n",
      " 14  2 Mbps      480 non-null    object \n",
      " 15  2,2 Mbps    480 non-null    object \n",
      " 16  2,5 Mbps    481 non-null    object \n",
      " 17  6,7 Mbps    480 non-null    object \n",
      " 18  3 Mbps      480 non-null    object \n",
      " 19  3,2 Mbps    480 non-null    object \n",
      " 20  3,3 Mbps    480 non-null    object \n",
      " 21  3,5 Mbps    480 non-null    object \n",
      " 22  4 Mbps      480 non-null    object \n",
      " 23  4,5 Mbps    480 non-null    object \n",
      " 24  5 Mbps      480 non-null    object \n",
      " 25  6 Mbps      480 non-null    object \n",
      " 26  6,4 Mbps    480 non-null    object \n",
      " 27  7 Mbps      480 non-null    object \n",
      " 28  7,5 Mbps    480 non-null    object \n",
      " 29  8 Mbps      480 non-null    object \n",
      " 30  9 Mbps      480 non-null    object \n",
      " 31  10 Mbps     480 non-null    object \n",
      " 32  10,6 Mbps   480 non-null    object \n",
      " 33  11 Mbps     480 non-null    object \n",
      " 34  12 Mbps     480 non-null    object \n",
      " 35  13 Mbps     480 non-null    object \n",
      " 36  14 Mbps     480 non-null    object \n",
      " 37  15 Mbps     480 non-null    object \n",
      " 38  16 Mbps     480 non-null    object \n",
      " 39  17 Mbps     480 non-null    object \n",
      " 40  18 Mbps     480 non-null    object \n",
      " 41  19 Mbps     480 non-null    object \n",
      " 42  20 Mbps     480 non-null    object \n",
      " 43  21 Mbps     480 non-null    object \n",
      " 44  22 Mbps     480 non-null    object \n",
      " 45  23 Mbps     480 non-null    object \n",
      " 46  24 Mbps     480 non-null    object \n",
      " 47  25 Mbps     480 non-null    object \n",
      " 48  25,1 Mbps   480 non-null    object \n",
      " 49  25,11 Mbps  480 non-null    object \n",
      " 50  25,5 Mbps   480 non-null    object \n",
      " 51  26 Mbps     480 non-null    object \n",
      " 52  28 Mbps     480 non-null    object \n",
      " 53  29 Mbps     480 non-null    object \n",
      " 54  30 Mbps     480 non-null    object \n",
      " 55  31 Mbps     480 non-null    object \n",
      " 56  32 Mbps     480 non-null    object \n",
      " 57  34 Mbps     480 non-null    object \n",
      " 58  35 Mbps     480 non-null    object \n",
      " 59  36 Mbps     480 non-null    object \n",
      " 60  37 Mbps     480 non-null    object \n",
      " 61  38 Mbps     480 non-null    object \n",
      " 62  39 Mbps     480 non-null    object \n",
      " 63  40 Mbps     480 non-null    object \n",
      " 64  41 Mbps     480 non-null    object \n",
      " 65  45 Mbps     480 non-null    object \n",
      " 66  46 Mbps     480 non-null    object \n",
      " 67  47 Mbps     480 non-null    object \n",
      " 68  48 Mbps     480 non-null    object \n",
      " 69  49 Mbps     480 non-null    object \n",
      " 70  50 Mbps     480 non-null    object \n",
      " 71  51 Mbps     480 non-null    object \n",
      " 72  52 Mbps     480 non-null    object \n",
      " 73  54 Mbps     480 non-null    object \n",
      " 74  55 Mbps     480 non-null    object \n",
      " 75  56 Mbps     480 non-null    object \n",
      " 76  58 Mbps     480 non-null    object \n",
      " 77  59 Mbps     480 non-null    object \n",
      " 78  60 Mbps     480 non-null    object \n",
      " 79  61 Mbps     480 non-null    object \n",
      " 80  62 Mbps     480 non-null    object \n",
      " 81  63 Mbps     480 non-null    object \n",
      " 82  64 Mbps     480 non-null    object \n",
      " 83  65 Mbps     480 non-null    object \n",
      " 84  66 Mbps     480 non-null    object \n",
      " 85  67 Mbps     480 non-null    object \n",
      " 86  68 Mbps     480 non-null    object \n",
      " 87  70 Mbps     480 non-null    object \n",
      " 88  71 Mbps     480 non-null    object \n",
      " 89  75 Mbps     480 non-null    object \n",
      " 90  77 Mbps     480 non-null    object \n",
      " 91  78 Mbps     480 non-null    object \n",
      " 92  80 Mbps     480 non-null    object \n",
      " 93  81 Mbps     480 non-null    object \n",
      " 94  83 Mbps     480 non-null    object \n",
      " 95  82 Mbps     480 non-null    object \n",
      " 96  86 Mbps     480 non-null    object \n",
      "dtypes: float64(2), object(95)\n",
      "memory usage: 364.6+ KB\n"
     ]
    }
   ],
   "source": [
    "internet_fijo_veloc_bajada_prov.info()"
   ]
  },
  {
   "attachments": {},
   "cell_type": "markdown",
   "metadata": {},
   "source": [
    "## Convertimos la columna  Ingresos (miles de pesos) que es de tipo Object en Float62 del dataset ingreso_internet_fijo_trimestral.csv"
   ]
  },
  {
   "cell_type": "code",
   "execution_count": null,
   "metadata": {},
   "outputs": [],
   "source": [
    "ingreso_internet_fijo_trimestral['Ingresos (miles de pesos)'] = ingreso_internet_fijo_trimestral['Ingresos (miles de pesos)'].str.replace('.', '')\n",
    "ingreso_internet_fijo_trimestral['Ingresos (miles de pesos)']=ingreso_internet_fijo_trimestral['Ingresos (miles de pesos)'].astype('Float32')\n",
    "ingreso_internet_fijo_trimestral['Ingresos (miles de pesos)'].info()\n",
    "ingreso_internet_fijo_trimestral.to_csv('C:/Soy-Henry/Telecomunicaciones/Data/ingreso_internet_fijo_trimestral.csv',index=False)"
   ]
  },
  {
   "cell_type": "markdown",
   "metadata": {},
   "source": [
    "## Convertimos la columna Mbps (Media de bajada) en Float del dataset veloc_media_nacional"
   ]
  },
  {
   "cell_type": "code",
   "execution_count": null,
   "metadata": {},
   "outputs": [],
   "source": [
    "veloc_media_nacional = pd.read_csv('C:/Soy-Henry/Telecomunicaciones/Data/veloc_media_nacional.csv')\n",
    "veloc_media_nacional['Mbps (Media de bajada)'] = veloc_media_nacional['Mbps (Media de bajada)'].str.replace('\"', '')\n",
    "veloc_media_nacional['Mbps (Media de bajada)'] = veloc_media_nacional['Mbps (Media de bajada)'].str.replace(',', '.')\n",
    "veloc_media_nacional['Mbps (Media de bajada)'] = veloc_media_nacional['Mbps (Media de bajada)'].astype('float')\n",
    "veloc_media_nacional.to_csv('C:/Soy-Henry/Telecomunicaciones/Data/veloc_media_nacional.csv',index=False)"
   ]
  },
  {
   "cell_type": "markdown",
   "metadata": {},
   "source": [
    "## Convertimos la columna Accesos por cada 100 hogares y Accesos por cada 100 hab  en Float del dataset internet_fijo_poblacion_hogar"
   ]
  },
  {
   "cell_type": "code",
   "execution_count": null,
   "metadata": {},
   "outputs": [],
   "source": [
    "internet_fijo_poblacion_hogar['Accesos por cada 100 hogares'] = internet_fijo_poblacion_hogar['Accesos por cada 100 hogares'].str.replace(',', '.')\n",
    "internet_fijo_poblacion_hogar['Accesos por cada 100 hogares'] = internet_fijo_poblacion_hogar['Accesos por cada 100 hogares'].astype('float')\n",
    "\n",
    "internet_fijo_poblacion_hogar['Accesos por cada 100 hab'] = internet_fijo_poblacion_hogar['Accesos por cada 100 hab'].str.replace(',', '.')\n",
    "internet_fijo_poblacion_hogar['Accesos por cada 100 hab'] = internet_fijo_poblacion_hogar['Accesos por cada 100 hab'].astype('float')"
   ]
  },
  {
   "cell_type": "code",
   "execution_count": 3,
   "metadata": {},
   "outputs": [
    {
     "data": {
      "text/html": [
       "<div>\n",
       "<style scoped>\n",
       "    .dataframe tbody tr th:only-of-type {\n",
       "        vertical-align: middle;\n",
       "    }\n",
       "\n",
       "    .dataframe tbody tr th {\n",
       "        vertical-align: top;\n",
       "    }\n",
       "\n",
       "    .dataframe thead th {\n",
       "        text-align: right;\n",
       "    }\n",
       "</style>\n",
       "<table border=\"1\" class=\"dataframe\">\n",
       "  <thead>\n",
       "    <tr style=\"text-align: right;\">\n",
       "      <th></th>\n",
       "      <th>Provincia</th>\n",
       "      <th>Partido</th>\n",
       "      <th>Localidad</th>\n",
       "      <th>ADSL</th>\n",
       "      <th>CABLEMODEM</th>\n",
       "      <th>DIALUP</th>\n",
       "      <th>FIBRAOPTICA</th>\n",
       "      <th>4G</th>\n",
       "      <th>3G</th>\n",
       "      <th>TELEFONIAFIJA</th>\n",
       "      <th>WIRELESS</th>\n",
       "      <th>SATELITAL</th>\n",
       "    </tr>\n",
       "  </thead>\n",
       "  <tbody>\n",
       "    <tr>\n",
       "      <th>count</th>\n",
       "      <td>4312</td>\n",
       "      <td>4312</td>\n",
       "      <td>4312</td>\n",
       "      <td>4312</td>\n",
       "      <td>4312</td>\n",
       "      <td>4312</td>\n",
       "      <td>4312</td>\n",
       "      <td>4312</td>\n",
       "      <td>4312</td>\n",
       "      <td>4312</td>\n",
       "      <td>4312</td>\n",
       "      <td>4312</td>\n",
       "    </tr>\n",
       "    <tr>\n",
       "      <th>unique</th>\n",
       "      <td>24</td>\n",
       "      <td>444</td>\n",
       "      <td>3912</td>\n",
       "      <td>2</td>\n",
       "      <td>2</td>\n",
       "      <td>2</td>\n",
       "      <td>2</td>\n",
       "      <td>2</td>\n",
       "      <td>2</td>\n",
       "      <td>2</td>\n",
       "      <td>2</td>\n",
       "      <td>2</td>\n",
       "    </tr>\n",
       "    <tr>\n",
       "      <th>top</th>\n",
       "      <td>BUENOS AIRES</td>\n",
       "      <td>General Roca</td>\n",
       "      <td>San Pedro</td>\n",
       "      <td>--</td>\n",
       "      <td>--</td>\n",
       "      <td>--</td>\n",
       "      <td>--</td>\n",
       "      <td>SI</td>\n",
       "      <td>--</td>\n",
       "      <td>SI</td>\n",
       "      <td>SI</td>\n",
       "      <td>--</td>\n",
       "    </tr>\n",
       "    <tr>\n",
       "      <th>freq</th>\n",
       "      <td>901</td>\n",
       "      <td>85</td>\n",
       "      <td>12</td>\n",
       "      <td>3179</td>\n",
       "      <td>3436</td>\n",
       "      <td>3909</td>\n",
       "      <td>2866</td>\n",
       "      <td>2574</td>\n",
       "      <td>2432</td>\n",
       "      <td>2162</td>\n",
       "      <td>2242</td>\n",
       "      <td>3233</td>\n",
       "    </tr>\n",
       "  </tbody>\n",
       "</table>\n",
       "</div>"
      ],
      "text/plain": [
       "           Provincia       Partido  Localidad  ADSL CABLEMODEM DIALUP  \\\n",
       "count           4312          4312       4312  4312       4312   4312   \n",
       "unique            24           444       3912     2          2      2   \n",
       "top     BUENOS AIRES  General Roca  San Pedro    --         --     --   \n",
       "freq             901            85         12  3179       3436   3909   \n",
       "\n",
       "       FIBRAOPTICA    4G    3G TELEFONIAFIJA WIRELESS SATELITAL  \n",
       "count         4312  4312  4312          4312     4312      4312  \n",
       "unique           2     2     2             2        2         2  \n",
       "top             --    SI    --            SI       SI        --  \n",
       "freq          2866  2574  2432          2162     2242      3233  "
      ]
     },
     "execution_count": 3,
     "metadata": {},
     "output_type": "execute_result"
    }
   ],
   "source": [
    "localidades_con_conectividad=pd.read_csv('C:\\Soy-Henry\\Telecomunicaciones\\Data\\localidades_con_conectividad.csv')\n",
    "localidades_con_conectividad.describe()"
   ]
  },
  {
   "cell_type": "code",
   "execution_count": 5,
   "metadata": {},
   "outputs": [],
   "source": [
    "# Eliminamos las columnas Unnamed: 11 y Total\n",
    "internet_rango_vel = pd.read_csv('C:\\Soy-Henry\\Telecomunicaciones\\Data\\internet_rango_vel.csv')\n",
    "internet_rango_vel.drop(columns= [\"Unnamed: 11\",\"Total\"],inplace=True)"
   ]
  },
  {
   "cell_type": "code",
   "execution_count": 24,
   "metadata": {},
   "outputs": [
    {
     "name": "stderr",
     "output_type": "stream",
     "text": [
      "C:\\Users\\renar\\AppData\\Local\\Temp\\ipykernel_14392\\3112368028.py:5: FutureWarning: The default value of regex will change from True to False in a future version. In addition, single character regular expressions will *not* be treated as literal strings when regex=True.\n",
      "  internet_rango_vel['Hasta 512 kbps'] = internet_rango_vel['Hasta 512 kbps'].str.replace('.', '')\n"
     ]
    }
   ],
   "source": [
    "internet_rango_vel['Hasta 512 kbps'] = internet_rango_vel['Hasta 512 kbps'].astype('string')\n",
    "internet_rango_vel['Hasta 512 kbps'] = internet_rango_vel['Hasta 512 kbps'].str.replace('.', '')\n",
    "internet_rango_vel['Hasta 512 kbps'] = internet_rango_vel['Hasta 512 kbps'].astype('int')\n"
   ]
  },
  {
   "cell_type": "code",
   "execution_count": 27,
   "metadata": {},
   "outputs": [
    {
     "name": "stderr",
     "output_type": "stream",
     "text": [
      "C:\\Users\\renar\\AppData\\Local\\Temp\\ipykernel_14392\\1459252953.py:2: FutureWarning: The default value of regex will change from True to False in a future version. In addition, single character regular expressions will *not* be treated as literal strings when regex=True.\n",
      "  internet_rango_vel['Entre 512 Kbps y 1 Mbps'] = internet_rango_vel['Entre 512 Kbps y 1 Mbps'].str.replace('.', '')\n"
     ]
    }
   ],
   "source": [
    "internet_rango_vel['Entre 512 Kbps y 1 Mbps'] = internet_rango_vel['Entre 512 Kbps y 1 Mbps'].astype('string')\n",
    "internet_rango_vel['Entre 512 Kbps y 1 Mbps'] = internet_rango_vel['Entre 512 Kbps y 1 Mbps'].str.replace('.', '')\n",
    "internet_rango_vel['Entre 512 Kbps y 1 Mbps'] = internet_rango_vel['Entre 512 Kbps y 1 Mbps'].astype('int')"
   ]
  },
  {
   "cell_type": "code",
   "execution_count": 28,
   "metadata": {},
   "outputs": [
    {
     "name": "stderr",
     "output_type": "stream",
     "text": [
      "C:\\Users\\renar\\AppData\\Local\\Temp\\ipykernel_14392\\3891611797.py:2: FutureWarning: The default value of regex will change from True to False in a future version. In addition, single character regular expressions will *not* be treated as literal strings when regex=True.\n",
      "  internet_rango_vel['Entre 1 Mbps y 6 Mbps'] = internet_rango_vel['Entre 1 Mbps y 6 Mbps'].str.replace('.', '')\n"
     ]
    }
   ],
   "source": [
    "internet_rango_vel['Entre 1 Mbps y 6 Mbps'] = internet_rango_vel['Entre 1 Mbps y 6 Mbps'].astype('string')\n",
    "internet_rango_vel['Entre 1 Mbps y 6 Mbps'] = internet_rango_vel['Entre 1 Mbps y 6 Mbps'].str.replace('.', '')\n",
    "internet_rango_vel['Entre 1 Mbps y 6 Mbps'] = internet_rango_vel['Entre 1 Mbps y 6 Mbps'].astype('int')"
   ]
  },
  {
   "cell_type": "code",
   "execution_count": 29,
   "metadata": {},
   "outputs": [
    {
     "name": "stderr",
     "output_type": "stream",
     "text": [
      "C:\\Users\\renar\\AppData\\Local\\Temp\\ipykernel_14392\\1762639834.py:2: FutureWarning: The default value of regex will change from True to False in a future version. In addition, single character regular expressions will *not* be treated as literal strings when regex=True.\n",
      "  internet_rango_vel['Entre 6 Mbps y 10 Mbps'] = internet_rango_vel['Entre 6 Mbps y 10 Mbps'].str.replace('.', '')\n"
     ]
    }
   ],
   "source": [
    "internet_rango_vel['Entre 6 Mbps y 10 Mbps'] = internet_rango_vel['Entre 6 Mbps y 10 Mbps'].astype('string')\n",
    "internet_rango_vel['Entre 6 Mbps y 10 Mbps'] = internet_rango_vel['Entre 6 Mbps y 10 Mbps'].str.replace('.', '')\n",
    "internet_rango_vel['Entre 6 Mbps y 10 Mbps'] = internet_rango_vel['Entre 6 Mbps y 10 Mbps'].astype('int')"
   ]
  },
  {
   "cell_type": "code",
   "execution_count": 30,
   "metadata": {},
   "outputs": [
    {
     "name": "stderr",
     "output_type": "stream",
     "text": [
      "C:\\Users\\renar\\AppData\\Local\\Temp\\ipykernel_14392\\1635538656.py:2: FutureWarning: The default value of regex will change from True to False in a future version. In addition, single character regular expressions will *not* be treated as literal strings when regex=True.\n",
      "  internet_rango_vel['Entre 10 Mbps y 20 Mbps'] = internet_rango_vel['Entre 10 Mbps y 20 Mbps'].str.replace('.', '')\n"
     ]
    }
   ],
   "source": [
    "internet_rango_vel['Entre 10 Mbps y 20 Mbps'] = internet_rango_vel['Entre 10 Mbps y 20 Mbps'].astype('string')\n",
    "internet_rango_vel['Entre 10 Mbps y 20 Mbps'] = internet_rango_vel['Entre 10 Mbps y 20 Mbps'].str.replace('.', '')\n",
    "internet_rango_vel['Entre 10 Mbps y 20 Mbps'] = internet_rango_vel['Entre 10 Mbps y 20 Mbps'].astype('int')"
   ]
  },
  {
   "cell_type": "code",
   "execution_count": 31,
   "metadata": {},
   "outputs": [
    {
     "name": "stderr",
     "output_type": "stream",
     "text": [
      "C:\\Users\\renar\\AppData\\Local\\Temp\\ipykernel_14392\\1623830741.py:2: FutureWarning: The default value of regex will change from True to False in a future version. In addition, single character regular expressions will *not* be treated as literal strings when regex=True.\n",
      "  internet_rango_vel['Entre 20 Mbps y 30 Mbps'] = internet_rango_vel['Entre 20 Mbps y 30 Mbps'].str.replace('.', '')\n"
     ]
    }
   ],
   "source": [
    "internet_rango_vel['Entre 20 Mbps y 30 Mbps'] = internet_rango_vel['Entre 20 Mbps y 30 Mbps'].astype('string')\n",
    "internet_rango_vel['Entre 20 Mbps y 30 Mbps'] = internet_rango_vel['Entre 20 Mbps y 30 Mbps'].str.replace('.', '')\n",
    "internet_rango_vel['Entre 20 Mbps y 30 Mbps'] = internet_rango_vel['Entre 20 Mbps y 30 Mbps'].astype('int')"
   ]
  },
  {
   "cell_type": "code",
   "execution_count": 33,
   "metadata": {},
   "outputs": [
    {
     "name": "stderr",
     "output_type": "stream",
     "text": [
      "C:\\Users\\renar\\AppData\\Local\\Temp\\ipykernel_14392\\2614779757.py:2: FutureWarning: The default value of regex will change from True to False in a future version. In addition, single character regular expressions will *not* be treated as literal strings when regex=True.\n",
      "  internet_rango_vel['Más de 30 Mbps'] = internet_rango_vel['Más de 30 Mbps'].str.replace('.', '')\n"
     ]
    }
   ],
   "source": [
    "internet_rango_vel['Más de 30 Mbps'] = internet_rango_vel['Más de 30 Mbps'].astype('string')\n",
    "internet_rango_vel['Más de 30 Mbps'] = internet_rango_vel['Más de 30 Mbps'].str.replace('.', '')\n",
    "internet_rango_vel['Más de 30 Mbps'] = internet_rango_vel['Más de 30 Mbps'].astype('int')"
   ]
  },
  {
   "cell_type": "code",
   "execution_count": 34,
   "metadata": {},
   "outputs": [
    {
     "name": "stderr",
     "output_type": "stream",
     "text": [
      "C:\\Users\\renar\\AppData\\Local\\Temp\\ipykernel_14392\\3121456578.py:2: FutureWarning: The default value of regex will change from True to False in a future version. In addition, single character regular expressions will *not* be treated as literal strings when regex=True.\n",
      "  internet_rango_vel['OTROS'] = internet_rango_vel['OTROS'].str.replace('.', '')\n"
     ]
    }
   ],
   "source": [
    "internet_rango_vel['OTROS'] = internet_rango_vel['OTROS'].astype('string')\n",
    "internet_rango_vel['OTROS'] = internet_rango_vel['OTROS'].str.replace('.', '')\n",
    "internet_rango_vel['OTROS'] = internet_rango_vel['OTROS'].astype('int')"
   ]
  },
  {
   "cell_type": "code",
   "execution_count": 35,
   "metadata": {},
   "outputs": [],
   "source": [
    "internet_rango_vel.to_csv('C:/Soy-Henry/Telecomunicaciones/Data/internet_rango_vel.csv',index=False)"
   ]
  },
  {
   "cell_type": "markdown",
   "metadata": {},
   "source": [
    "ETL sobre internet_tecno_nacional"
   ]
  },
  {
   "cell_type": "code",
   "execution_count": 36,
   "metadata": {},
   "outputs": [],
   "source": [
    "#Año,Trimestre,Total,Periodo\n",
    "internet_tecno_nacional = pd.read_csv('C:\\Soy-Henry\\Telecomunicaciones\\Data\\internet_tecno_nacional.csv')"
   ]
  },
  {
   "cell_type": "code",
   "execution_count": 38,
   "metadata": {},
   "outputs": [
    {
     "name": "stderr",
     "output_type": "stream",
     "text": [
      "C:\\Users\\renar\\AppData\\Local\\Temp\\ipykernel_14392\\1682580333.py:2: FutureWarning: The default value of regex will change from True to False in a future version. In addition, single character regular expressions will *not* be treated as literal strings when regex=True.\n",
      "  internet_tecno_nacional['ADSL'] = internet_tecno_nacional['ADSL'].str.replace('.', '')\n"
     ]
    }
   ],
   "source": [
    "internet_tecno_nacional['ADSL'] = internet_tecno_nacional['ADSL'].astype('string')\n",
    "internet_tecno_nacional['ADSL'] = internet_tecno_nacional['ADSL'].str.replace('.', '')\n",
    "internet_tecno_nacional['ADSL'] = internet_tecno_nacional['ADSL'].astype('int')"
   ]
  },
  {
   "cell_type": "code",
   "execution_count": 39,
   "metadata": {},
   "outputs": [
    {
     "name": "stderr",
     "output_type": "stream",
     "text": [
      "C:\\Users\\renar\\AppData\\Local\\Temp\\ipykernel_14392\\67263395.py:2: FutureWarning: The default value of regex will change from True to False in a future version. In addition, single character regular expressions will *not* be treated as literal strings when regex=True.\n",
      "  internet_tecno_nacional['Cablemodem'] = internet_tecno_nacional['Cablemodem'].str.replace('.', '')\n"
     ]
    }
   ],
   "source": [
    "internet_tecno_nacional['Cablemodem'] = internet_tecno_nacional['Cablemodem'].astype('string')\n",
    "internet_tecno_nacional['Cablemodem'] = internet_tecno_nacional['Cablemodem'].str.replace('.', '')\n",
    "internet_tecno_nacional['Cablemodem'] = internet_tecno_nacional['Cablemodem'].astype('int')"
   ]
  },
  {
   "cell_type": "code",
   "execution_count": 40,
   "metadata": {},
   "outputs": [
    {
     "name": "stderr",
     "output_type": "stream",
     "text": [
      "C:\\Users\\renar\\AppData\\Local\\Temp\\ipykernel_14392\\2133839755.py:2: FutureWarning: The default value of regex will change from True to False in a future version. In addition, single character regular expressions will *not* be treated as literal strings when regex=True.\n",
      "  internet_tecno_nacional['Fibra óptica'] = internet_tecno_nacional['Fibra óptica'].str.replace('.', '')\n"
     ]
    }
   ],
   "source": [
    "internet_tecno_nacional['Fibra óptica'] = internet_tecno_nacional['Fibra óptica'].astype('string')\n",
    "internet_tecno_nacional['Fibra óptica'] = internet_tecno_nacional['Fibra óptica'].str.replace('.', '')\n",
    "internet_tecno_nacional['Fibra óptica'] = internet_tecno_nacional['Fibra óptica'].astype('int')"
   ]
  },
  {
   "cell_type": "code",
   "execution_count": 41,
   "metadata": {},
   "outputs": [
    {
     "name": "stderr",
     "output_type": "stream",
     "text": [
      "C:\\Users\\renar\\AppData\\Local\\Temp\\ipykernel_14392\\4260512701.py:2: FutureWarning: The default value of regex will change from True to False in a future version. In addition, single character regular expressions will *not* be treated as literal strings when regex=True.\n",
      "  internet_tecno_nacional['Wireless'] = internet_tecno_nacional['Wireless'].str.replace('.', '')\n"
     ]
    }
   ],
   "source": [
    "internet_tecno_nacional['Wireless'] = internet_tecno_nacional['Wireless'].astype('string')\n",
    "internet_tecno_nacional['Wireless'] = internet_tecno_nacional['Wireless'].str.replace('.', '')\n",
    "internet_tecno_nacional['Wireless'] = internet_tecno_nacional['Wireless'].astype('int')"
   ]
  },
  {
   "cell_type": "code",
   "execution_count": 42,
   "metadata": {},
   "outputs": [
    {
     "name": "stderr",
     "output_type": "stream",
     "text": [
      "C:\\Users\\renar\\AppData\\Local\\Temp\\ipykernel_14392\\1135587752.py:2: FutureWarning: The default value of regex will change from True to False in a future version. In addition, single character regular expressions will *not* be treated as literal strings when regex=True.\n",
      "  internet_tecno_nacional['Otros'] = internet_tecno_nacional['Otros'].str.replace('.', '')\n"
     ]
    }
   ],
   "source": [
    "internet_tecno_nacional['Otros'] = internet_tecno_nacional['Otros'].astype('string')\n",
    "internet_tecno_nacional['Otros'] = internet_tecno_nacional['Otros'].str.replace('.', '')\n",
    "internet_tecno_nacional['Otros'] = internet_tecno_nacional['Otros'].astype('int')"
   ]
  },
  {
   "cell_type": "code",
   "execution_count": 43,
   "metadata": {},
   "outputs": [
    {
     "name": "stderr",
     "output_type": "stream",
     "text": [
      "C:\\Users\\renar\\AppData\\Local\\Temp\\ipykernel_14392\\3734696267.py:2: FutureWarning: The default value of regex will change from True to False in a future version. In addition, single character regular expressions will *not* be treated as literal strings when regex=True.\n",
      "  internet_tecno_nacional['Total'] = internet_tecno_nacional['Total'].str.replace('.', '')\n"
     ]
    }
   ],
   "source": [
    "internet_tecno_nacional['Total'] = internet_tecno_nacional['Total'].astype('string')\n",
    "internet_tecno_nacional['Total'] = internet_tecno_nacional['Total'].str.replace('.', '')\n",
    "internet_tecno_nacional['Total'] = internet_tecno_nacional['Total'].astype('int')"
   ]
  },
  {
   "cell_type": "code",
   "execution_count": 44,
   "metadata": {},
   "outputs": [],
   "source": [
    "internet_tecno_nacional.to_csv('C:/Soy-Henry/Telecomunicaciones/Data/internet_tecno_nacional.csv',index=False)"
   ]
  },
  {
   "cell_type": "markdown",
   "metadata": {},
   "source": [
    "ETl sobre el dataset Telefonia_movil_ingresos_trimestrales"
   ]
  },
  {
   "cell_type": "code",
   "execution_count": 45,
   "metadata": {},
   "outputs": [],
   "source": [
    "Telefonia_movil_ingresos_trimestrales = pd.read_csv('C:\\Soy-Henry\\Telecomunicaciones\\Data\\Telefonia_movil_ingresos_trimestrales.csv')"
   ]
  },
  {
   "cell_type": "code",
   "execution_count": 53,
   "metadata": {},
   "outputs": [
    {
     "name": "stderr",
     "output_type": "stream",
     "text": [
      "C:\\Users\\renar\\AppData\\Local\\Temp\\ipykernel_14392\\368960610.py:2: FutureWarning: The default value of regex will change from True to False in a future version. In addition, single character regular expressions will *not* be treated as literal strings when regex=True.\n",
      "  Telefonia_movil_ingresos_trimestrales['Ingresos (miles de $)'] = Telefonia_movil_ingresos_trimestrales['Ingresos (miles de $)'].str.replace('.', '')\n",
      "C:\\Users\\renar\\AppData\\Local\\Temp\\ipykernel_14392\\368960610.py:4: FutureWarning: The default value of regex will change from True to False in a future version. In addition, single character regular expressions will *not* be treated as literal strings when regex=True.\n",
      "  Telefonia_movil_ingresos_trimestrales['Ingresos (miles de $)'] = Telefonia_movil_ingresos_trimestrales['Ingresos (miles de $)'].str.replace('$', '')\n"
     ]
    }
   ],
   "source": [
    "Telefonia_movil_ingresos_trimestrales['Ingresos (miles de $)'] = Telefonia_movil_ingresos_trimestrales['Ingresos (miles de $)'].astype('string')\n",
    "Telefonia_movil_ingresos_trimestrales['Ingresos (miles de $)'] = Telefonia_movil_ingresos_trimestrales['Ingresos (miles de $)'].str.replace('.', '')\n",
    "Telefonia_movil_ingresos_trimestrales['Ingresos (miles de $)'] = Telefonia_movil_ingresos_trimestrales['Ingresos (miles de $)'].str.replace(' ', '')\n",
    "Telefonia_movil_ingresos_trimestrales['Ingresos (miles de $)'] = Telefonia_movil_ingresos_trimestrales['Ingresos (miles de $)'].str.replace('$', '')\n",
    "Telefonia_movil_ingresos_trimestrales['Ingresos (miles de $)'] = Telefonia_movil_ingresos_trimestrales['Ingresos (miles de $)'].astype('int')\n",
    "Telefonia_movil_ingresos_trimestrales.to_csv('C:/Soy-Henry/Telecomunicaciones/Data/Telefonia_movil_ingresos_trimestrales.csv',index=False)"
   ]
  },
  {
   "cell_type": "markdown",
   "metadata": {},
   "source": [
    "## ETl sobre el dataset Tv_penet_suscrip_cada100_hogares"
   ]
  },
  {
   "cell_type": "code",
   "execution_count": 55,
   "metadata": {},
   "outputs": [],
   "source": [
    "# Año,Trimestre,Provincia,Accesos TV por suscripción por cada 100 hab,Accesos TV por suscripción por cada 100 hogares\n",
    "Tv_penet_suscrip_cada100_hogares = pd.read_csv('C:\\Soy-Henry\\Telecomunicaciones\\Data\\Tv_penet_suscrip_cada100_hogares.csv')"
   ]
  },
  {
   "cell_type": "code",
   "execution_count": 58,
   "metadata": {},
   "outputs": [],
   "source": [
    "Tv_penet_suscrip_cada100_hogares['Accesos TV por suscripción por cada 100 hogares'] = Tv_penet_suscrip_cada100_hogares['Accesos TV por suscripción por cada 100 hogares'].astype('string')\n",
    "Tv_penet_suscrip_cada100_hogares['Accesos TV por suscripción por cada 100 hogares'] = Tv_penet_suscrip_cada100_hogares['Accesos TV por suscripción por cada 100 hogares'].str.replace(',', '.')\n",
    "Tv_penet_suscrip_cada100_hogares['Accesos TV por suscripción por cada 100 hogares'] = Tv_penet_suscrip_cada100_hogares['Accesos TV por suscripción por cada 100 hogares'].astype('float')"
   ]
  },
  {
   "cell_type": "code",
   "execution_count": 60,
   "metadata": {},
   "outputs": [],
   "source": [
    "Tv_penet_suscrip_cada100_hogares['Accesos TV por suscripción por cada 100 hab'] = Tv_penet_suscrip_cada100_hogares['Accesos TV por suscripción por cada 100 hab'].astype('string')\n",
    "Tv_penet_suscrip_cada100_hogares['Accesos TV por suscripción por cada 100 hab'] = Tv_penet_suscrip_cada100_hogares['Accesos TV por suscripción por cada 100 hab'].str.replace(',', '.')\n",
    "Tv_penet_suscrip_cada100_hogares['Accesos TV por suscripción por cada 100 hab'] = Tv_penet_suscrip_cada100_hogares['Accesos TV por suscripción por cada 100 hab'].astype('float')\n",
    "Tv_penet_suscrip_cada100_hogares.to_csv('C:/Soy-Henry/Telecomunicaciones/Data/Tv_penet_suscrip_cada100_hogares.csv',index=False)"
   ]
  },
  {
   "cell_type": "markdown",
   "metadata": {},
   "source": [
    "## ETL del dataframe Ing_trim__servicios_tv_paga - Ingresos trimestrales por la prestación de los servicios de televisión paga"
   ]
  },
  {
   "cell_type": "code",
   "execution_count": 64,
   "metadata": {},
   "outputs": [],
   "source": [
    "ing_trim__servicios_tv_paga = pd.read_csv('C:\\Soy-Henry\\Telecomunicaciones\\Data\\ing_trim__servicios_tv_paga.csv')"
   ]
  },
  {
   "cell_type": "code",
   "execution_count": 65,
   "metadata": {},
   "outputs": [
    {
     "name": "stderr",
     "output_type": "stream",
     "text": [
      "C:\\Users\\renar\\AppData\\Local\\Temp\\ipykernel_14392\\4033461861.py:2: FutureWarning: The default value of regex will change from True to False in a future version. In addition, single character regular expressions will *not* be treated as literal strings when regex=True.\n",
      "  ing_trim__servicios_tv_paga['Ingresos TV por suscripción  (miles de $)'] = ing_trim__servicios_tv_paga['Ingresos TV por suscripción  (miles de $)'].str.replace('.', '')\n",
      "C:\\Users\\renar\\AppData\\Local\\Temp\\ipykernel_14392\\4033461861.py:5: FutureWarning: The default value of regex will change from True to False in a future version. In addition, single character regular expressions will *not* be treated as literal strings when regex=True.\n",
      "  ing_trim__servicios_tv_paga['Ingresos TV por suscripción  (miles de $)'] = ing_trim__servicios_tv_paga['Ingresos TV por suscripción  (miles de $)'].str.replace('$', '')\n"
     ]
    }
   ],
   "source": [
    "ing_trim__servicios_tv_paga['Ingresos TV por suscripción  (miles de $)'] = ing_trim__servicios_tv_paga['Ingresos TV por suscripción  (miles de $)'].astype('string')\n",
    "ing_trim__servicios_tv_paga['Ingresos TV por suscripción  (miles de $)'] = ing_trim__servicios_tv_paga['Ingresos TV por suscripción  (miles de $)'].str.replace('.', '')\n",
    "ing_trim__servicios_tv_paga['Ingresos TV por suscripción  (miles de $)'] = ing_trim__servicios_tv_paga['Ingresos TV por suscripción  (miles de $)'].str.replace(',', '.')\n",
    "ing_trim__servicios_tv_paga['Ingresos TV por suscripción  (miles de $)'] = ing_trim__servicios_tv_paga['Ingresos TV por suscripción  (miles de $)'].str.replace(' ', '')\n",
    "ing_trim__servicios_tv_paga['Ingresos TV por suscripción  (miles de $)'] = ing_trim__servicios_tv_paga['Ingresos TV por suscripción  (miles de $)'].str.replace('$', '')\n",
    "ing_trim__servicios_tv_paga['Ingresos TV por suscripción  (miles de $)'] = ing_trim__servicios_tv_paga['Ingresos TV por suscripción  (miles de $)'].astype('float')\n"
   ]
  },
  {
   "cell_type": "code",
   "execution_count": 66,
   "metadata": {},
   "outputs": [
    {
     "name": "stderr",
     "output_type": "stream",
     "text": [
      "C:\\Users\\renar\\AppData\\Local\\Temp\\ipykernel_14392\\1580392765.py:2: FutureWarning: The default value of regex will change from True to False in a future version. In addition, single character regular expressions will *not* be treated as literal strings when regex=True.\n",
      "  ing_trim__servicios_tv_paga['Ingresos TV satelital (miles de $)'] = ing_trim__servicios_tv_paga['Ingresos TV satelital (miles de $)'].str.replace('.', '')\n",
      "C:\\Users\\renar\\AppData\\Local\\Temp\\ipykernel_14392\\1580392765.py:5: FutureWarning: The default value of regex will change from True to False in a future version. In addition, single character regular expressions will *not* be treated as literal strings when regex=True.\n",
      "  ing_trim__servicios_tv_paga['Ingresos TV satelital (miles de $)'] = ing_trim__servicios_tv_paga['Ingresos TV satelital (miles de $)'].str.replace('$', '')\n"
     ]
    }
   ],
   "source": [
    "ing_trim__servicios_tv_paga['Ingresos TV satelital (miles de $)'] = ing_trim__servicios_tv_paga['Ingresos TV satelital (miles de $)'].astype('string')\n",
    "ing_trim__servicios_tv_paga['Ingresos TV satelital (miles de $)'] = ing_trim__servicios_tv_paga['Ingresos TV satelital (miles de $)'].str.replace('.', '')\n",
    "ing_trim__servicios_tv_paga['Ingresos TV satelital (miles de $)'] = ing_trim__servicios_tv_paga['Ingresos TV satelital (miles de $)'].str.replace(',', '.')\n",
    "ing_trim__servicios_tv_paga['Ingresos TV satelital (miles de $)'] = ing_trim__servicios_tv_paga['Ingresos TV satelital (miles de $)'].str.replace(' ', '')\n",
    "ing_trim__servicios_tv_paga['Ingresos TV satelital (miles de $)'] = ing_trim__servicios_tv_paga['Ingresos TV satelital (miles de $)'].str.replace('$', '')\n",
    "ing_trim__servicios_tv_paga['Ingresos TV satelital (miles de $)'] = ing_trim__servicios_tv_paga['Ingresos TV satelital (miles de $)'].astype('float')\n",
    "\n",
    "ing_trim__servicios_tv_paga.to_csv('C:/Soy-Henry/Telecomunicaciones/Data/ing_trim__servicios_tv_paga.csv',index=False)"
   ]
  },
  {
   "cell_type": "code",
   "execution_count": 31,
   "metadata": {},
   "outputs": [
    {
     "name": "stdout",
     "output_type": "stream",
     "text": [
      "<class 'pandas.core.frame.DataFrame'>\n",
      "RangeIndex: 3142 entries, 0 to 3141\n",
      "Data columns (total 14 columns):\n",
      " #   Column         Non-Null Count  Dtype  \n",
      "---  ------         --------------  -----  \n",
      " 0   Provincia      3142 non-null   object \n",
      " 1   Partido        3142 non-null   object \n",
      " 2   Localidad      3142 non-null   object \n",
      " 3   Link Indec     3142 non-null   object \n",
      " 4   ADSL           3142 non-null   object \n",
      " 5   CABLEMODEM     3142 non-null   object \n",
      " 6   DIAL UP        3142 non-null   object \n",
      " 7   FIBRA OPTICA   3142 non-null   object \n",
      " 8   OTROS          3142 non-null   object \n",
      " 9   SATELITAL      3142 non-null   object \n",
      " 10  WIMAX          3142 non-null   object \n",
      " 11  WIRELESS       3142 non-null   object \n",
      " 12  Total general  3142 non-null   object \n",
      " 13  Unnamed: 13    0 non-null      float64\n",
      "dtypes: float64(1), object(13)\n",
      "memory usage: 343.8+ KB\n"
     ]
    }
   ],
   "source": [
    "internet_fijo_tecno_loc = pd.read_csv('C:/Soy-Henry/Telecomunicaciones/Data/internet_fijo_tecno_loc.csv')\n",
    "\n",
    "internet_fijo_tecno_loc.info()"
   ]
  },
  {
   "cell_type": "code",
   "execution_count": 45,
   "metadata": {},
   "outputs": [],
   "source": [
    "# quitamos la columna Unnamed: 13\n",
    "\n",
    "internet_fijo_tecno_loc.drop(columns= [\"Unnamed: 13\"],inplace=True)"
   ]
  },
  {
   "cell_type": "code",
   "execution_count": 33,
   "metadata": {},
   "outputs": [
    {
     "name": "stderr",
     "output_type": "stream",
     "text": [
      "C:\\Users\\renar\\AppData\\Local\\Temp\\ipykernel_10672\\2121969467.py:12: FutureWarning: The default value of regex will change from True to False in a future version. In addition, single character regular expressions will *not* be treated as literal strings when regex=True.\n",
      "  internet_fijo_tecno_loc['ADSL'] = internet_fijo_tecno_loc['ADSL'].str.replace('.', '')\n",
      "C:\\Users\\renar\\AppData\\Local\\Temp\\ipykernel_10672\\2121969467.py:13: FutureWarning: The default value of regex will change from True to False in a future version. In addition, single character regular expressions will *not* be treated as literal strings when regex=True.\n",
      "  internet_fijo_tecno_loc['CABLEMODEM'] = internet_fijo_tecno_loc['CABLEMODEM'].str.replace('.', '')\n",
      "C:\\Users\\renar\\AppData\\Local\\Temp\\ipykernel_10672\\2121969467.py:14: FutureWarning: The default value of regex will change from True to False in a future version. In addition, single character regular expressions will *not* be treated as literal strings when regex=True.\n",
      "  internet_fijo_tecno_loc['DIAL UP'] = internet_fijo_tecno_loc['DIAL UP'].str.replace('.', '')\n",
      "C:\\Users\\renar\\AppData\\Local\\Temp\\ipykernel_10672\\2121969467.py:15: FutureWarning: The default value of regex will change from True to False in a future version. In addition, single character regular expressions will *not* be treated as literal strings when regex=True.\n",
      "  internet_fijo_tecno_loc['FIBRA OPTICA'] = internet_fijo_tecno_loc['FIBRA OPTICA'].str.replace('.', '')\n",
      "C:\\Users\\renar\\AppData\\Local\\Temp\\ipykernel_10672\\2121969467.py:16: FutureWarning: The default value of regex will change from True to False in a future version. In addition, single character regular expressions will *not* be treated as literal strings when regex=True.\n",
      "  internet_fijo_tecno_loc['OTROS'] = internet_fijo_tecno_loc['OTROS'].str.replace('.', '')\n",
      "C:\\Users\\renar\\AppData\\Local\\Temp\\ipykernel_10672\\2121969467.py:17: FutureWarning: The default value of regex will change from True to False in a future version. In addition, single character regular expressions will *not* be treated as literal strings when regex=True.\n",
      "  internet_fijo_tecno_loc['WIMAX'] = internet_fijo_tecno_loc['WIMAX'].str.replace('.', '')\n",
      "C:\\Users\\renar\\AppData\\Local\\Temp\\ipykernel_10672\\2121969467.py:18: FutureWarning: The default value of regex will change from True to False in a future version. In addition, single character regular expressions will *not* be treated as literal strings when regex=True.\n",
      "  internet_fijo_tecno_loc['WIRELESS'] = internet_fijo_tecno_loc['WIRELESS'].str.replace('.', '')\n"
     ]
    }
   ],
   "source": [
    "# Convertimos las columnas en string y quitamos el . en las columnas  ADSL,Cablemodem,Fibra óptica,Wireless y Otros en tipo int\n",
    "#Convertimos a string\n",
    "internet_fijo_tecno_loc['ADSL'] = internet_fijo_tecno_loc['ADSL'].astype('string')\n",
    "internet_fijo_tecno_loc['CABLEMODEM'] = internet_fijo_tecno_loc['CABLEMODEM'].astype('string')\n",
    "internet_fijo_tecno_loc['DIAL UP'] = internet_fijo_tecno_loc['DIAL UP'].astype('string')\n",
    "internet_fijo_tecno_loc['FIBRA OPTICA'] = internet_fijo_tecno_loc['FIBRA OPTICA'].astype('string')\n",
    "internet_fijo_tecno_loc['OTROS'] = internet_fijo_tecno_loc['OTROS'].astype('string')\n",
    "internet_fijo_tecno_loc['WIMAX'] = internet_fijo_tecno_loc['WIMAX'].astype('string')\n",
    "internet_fijo_tecno_loc['WIRELESS'] = internet_fijo_tecno_loc['WIRELESS'].astype('string')\n",
    "\n",
    "\n",
    "internet_fijo_tecno_loc['ADSL'] = internet_fijo_tecno_loc['ADSL'].str.replace('.', '')\n",
    "internet_fijo_tecno_loc['CABLEMODEM'] = internet_fijo_tecno_loc['CABLEMODEM'].str.replace('.', '')\n",
    "internet_fijo_tecno_loc['DIAL UP'] = internet_fijo_tecno_loc['DIAL UP'].str.replace('.', '')\n",
    "internet_fijo_tecno_loc['FIBRA OPTICA'] = internet_fijo_tecno_loc['FIBRA OPTICA'].str.replace('.', '')\n",
    "internet_fijo_tecno_loc['OTROS'] = internet_fijo_tecno_loc['OTROS'].str.replace('.', '')\n",
    "internet_fijo_tecno_loc['WIMAX'] = internet_fijo_tecno_loc['WIMAX'].str.replace('.', '')\n",
    "internet_fijo_tecno_loc['WIRELESS'] = internet_fijo_tecno_loc['WIRELESS'].str.replace('.', '')\n"
   ]
  },
  {
   "cell_type": "code",
   "execution_count": 43,
   "metadata": {},
   "outputs": [],
   "source": [
    "# quitamos de el valor -0 de las columnas ADSL,Cablemodem,Fibra óptica,Wireless y Otros\n",
    "internet_fijo_tecno_loc.loc[internet_fijo_tecno_loc['ADSL'] == '- 0', 'ADSL'] = '0'\n",
    "internet_fijo_tecno_loc.loc[internet_fijo_tecno_loc['CABLEMODEM'] == '- 0', 'CABLEMODEM'] = '0'\n",
    "internet_fijo_tecno_loc.loc[internet_fijo_tecno_loc['DIAL UP'] == '- 0', 'DIAL UP'] = '0'\n",
    "internet_fijo_tecno_loc.loc[internet_fijo_tecno_loc['FIBRA OPTICA'] == '- 0', 'FIBRA OPTICA'] = '0'\n",
    "internet_fijo_tecno_loc.loc[internet_fijo_tecno_loc['OTROS'] == '- 0', 'OTROS'] = '0'\n",
    "internet_fijo_tecno_loc.loc[internet_fijo_tecno_loc['SATELITAL'] == '- 0', 'SATELITAL'] = '0'\n",
    "internet_fijo_tecno_loc.loc[internet_fijo_tecno_loc['WIMAX'] == '- 0', 'WIMAX'] = '0'\n",
    "internet_fijo_tecno_loc.loc[internet_fijo_tecno_loc['WIRELESS'] == '- 0', 'WIRELESS'] = '0'"
   ]
  },
  {
   "cell_type": "code",
   "execution_count": 46,
   "metadata": {},
   "outputs": [],
   "source": [
    "# convertimos las columnas  ADSL,Cablemodem,Fibra óptica,Wireless y Otros en tipo int\n",
    "internet_fijo_tecno_loc['ADSL'] = internet_fijo_tecno_loc['ADSL'].astype('int')\n",
    "internet_fijo_tecno_loc['CABLEMODEM'] = internet_fijo_tecno_loc['CABLEMODEM'].astype('int')\n",
    "internet_fijo_tecno_loc['DIAL UP'] = internet_fijo_tecno_loc['DIAL UP'].astype('int')\n",
    "internet_fijo_tecno_loc['FIBRA OPTICA'] = internet_fijo_tecno_loc['FIBRA OPTICA'].astype('int')\n",
    "internet_fijo_tecno_loc['OTROS'] = internet_fijo_tecno_loc['OTROS'].astype('int')\n",
    "internet_fijo_tecno_loc['WIMAX'] = internet_fijo_tecno_loc['WIMAX'].astype('int')\n",
    "internet_fijo_tecno_loc['WIRELESS'] = internet_fijo_tecno_loc['WIRELESS'].astype('int')\n"
   ]
  },
  {
   "cell_type": "code",
   "execution_count": 49,
   "metadata": {},
   "outputs": [
    {
     "data": {
      "text/html": [
       "<div>\n",
       "<style scoped>\n",
       "    .dataframe tbody tr th:only-of-type {\n",
       "        vertical-align: middle;\n",
       "    }\n",
       "\n",
       "    .dataframe tbody tr th {\n",
       "        vertical-align: top;\n",
       "    }\n",
       "\n",
       "    .dataframe thead th {\n",
       "        text-align: right;\n",
       "    }\n",
       "</style>\n",
       "<table border=\"1\" class=\"dataframe\">\n",
       "  <thead>\n",
       "    <tr style=\"text-align: right;\">\n",
       "      <th></th>\n",
       "      <th>Provincia</th>\n",
       "      <th>Partido</th>\n",
       "      <th>Localidad</th>\n",
       "      <th>Link Indec</th>\n",
       "      <th>ADSL</th>\n",
       "      <th>CABLEMODEM</th>\n",
       "      <th>DIAL UP</th>\n",
       "      <th>FIBRA OPTICA</th>\n",
       "      <th>OTROS</th>\n",
       "      <th>SATELITAL</th>\n",
       "      <th>WIMAX</th>\n",
       "      <th>WIRELESS</th>\n",
       "      <th>Total general</th>\n",
       "    </tr>\n",
       "  </thead>\n",
       "  <tbody>\n",
       "    <tr>\n",
       "      <th>0</th>\n",
       "      <td>BUENOS AIRES</td>\n",
       "      <td>25 de Mayo</td>\n",
       "      <td>25 de Mayo</td>\n",
       "      <td>6854100</td>\n",
       "      <td>873</td>\n",
       "      <td>4704</td>\n",
       "      <td>0</td>\n",
       "      <td>2</td>\n",
       "      <td>0</td>\n",
       "      <td>975</td>\n",
       "      <td>0</td>\n",
       "      <td>664</td>\n",
       "      <td>7.218</td>\n",
       "    </tr>\n",
       "    <tr>\n",
       "      <th>1</th>\n",
       "      <td>BUENOS AIRES</td>\n",
       "      <td>25 de Mayo</td>\n",
       "      <td>Del Valle</td>\n",
       "      <td>6854020</td>\n",
       "      <td>181</td>\n",
       "      <td>0</td>\n",
       "      <td>0</td>\n",
       "      <td>0</td>\n",
       "      <td>10</td>\n",
       "      <td>1</td>\n",
       "      <td>0</td>\n",
       "      <td>0</td>\n",
       "      <td>192</td>\n",
       "    </tr>\n",
       "    <tr>\n",
       "      <th>2</th>\n",
       "      <td>BUENOS AIRES</td>\n",
       "      <td>25 de Mayo</td>\n",
       "      <td>Gobernador Ugarte</td>\n",
       "      <td>6854040</td>\n",
       "      <td>0</td>\n",
       "      <td>0</td>\n",
       "      <td>0</td>\n",
       "      <td>0</td>\n",
       "      <td>0</td>\n",
       "      <td>0</td>\n",
       "      <td>0</td>\n",
       "      <td>181</td>\n",
       "      <td>181</td>\n",
       "    </tr>\n",
       "    <tr>\n",
       "      <th>3</th>\n",
       "      <td>BUENOS AIRES</td>\n",
       "      <td>25 de Mayo</td>\n",
       "      <td>Norberto de la Riestra</td>\n",
       "      <td>6854060</td>\n",
       "      <td>0</td>\n",
       "      <td>782</td>\n",
       "      <td>0</td>\n",
       "      <td>6</td>\n",
       "      <td>167</td>\n",
       "      <td>0</td>\n",
       "      <td>0</td>\n",
       "      <td>327</td>\n",
       "      <td>1.282</td>\n",
       "    </tr>\n",
       "    <tr>\n",
       "      <th>4</th>\n",
       "      <td>BUENOS AIRES</td>\n",
       "      <td>25 de Mayo</td>\n",
       "      <td>Lucas Monteverde</td>\n",
       "      <td>6854050</td>\n",
       "      <td>0</td>\n",
       "      <td>0</td>\n",
       "      <td>0</td>\n",
       "      <td>0</td>\n",
       "      <td>0</td>\n",
       "      <td>0</td>\n",
       "      <td>0</td>\n",
       "      <td>6</td>\n",
       "      <td>6</td>\n",
       "    </tr>\n",
       "  </tbody>\n",
       "</table>\n",
       "</div>"
      ],
      "text/plain": [
       "      Provincia     Partido               Localidad Link Indec  ADSL  \\\n",
       "0  BUENOS AIRES  25 de Mayo              25 de Mayo    6854100   873   \n",
       "1  BUENOS AIRES  25 de Mayo               Del Valle    6854020   181   \n",
       "2  BUENOS AIRES  25 de Mayo       Gobernador Ugarte    6854040     0   \n",
       "3  BUENOS AIRES  25 de Mayo  Norberto de la Riestra    6854060     0   \n",
       "4  BUENOS AIRES  25 de Mayo        Lucas Monteverde    6854050     0   \n",
       "\n",
       "   CABLEMODEM  DIAL UP  FIBRA OPTICA  OTROS SATELITAL  WIMAX  WIRELESS  \\\n",
       "0        4704        0             2      0       975      0       664   \n",
       "1           0        0             0     10         1      0         0   \n",
       "2           0        0             0      0         0      0       181   \n",
       "3         782        0             6    167         0      0       327   \n",
       "4           0        0             0      0         0      0         6   \n",
       "\n",
       "  Total general  \n",
       "0         7.218  \n",
       "1           192  \n",
       "2           181  \n",
       "3         1.282  \n",
       "4             6  "
      ]
     },
     "execution_count": 49,
     "metadata": {},
     "output_type": "execute_result"
    }
   ],
   "source": [
    "internet_fijo_tecno_loc.to_csv('C:/Soy-Henry/Telecomunicaciones/Data/internet_fijo_tecno_loc.csv',index=False)\n",
    "internet_fijo_tecno_loc.head()"
   ]
  },
  {
   "cell_type": "code",
   "execution_count": 12,
   "metadata": {},
   "outputs": [
    {
     "name": "stderr",
     "output_type": "stream",
     "text": [
      "C:\\Users\\renar\\AppData\\Local\\Temp\\ipykernel_888\\3938514484.py:11: FutureWarning: The default value of regex will change from True to False in a future version. In addition, single character regular expressions will *not* be treated as literal strings when regex=True.\n",
      "  internet_bancha_bangosta_prov['Banda ancha fija'] = internet_bancha_bangosta_prov['Banda ancha fija'].str.replace('.', '')\n",
      "C:\\Users\\renar\\AppData\\Local\\Temp\\ipykernel_888\\3938514484.py:12: FutureWarning: The default value of regex will change from True to False in a future version. In addition, single character regular expressions will *not* be treated as literal strings when regex=True.\n",
      "  internet_bancha_bangosta_prov['Dial up'] = internet_bancha_bangosta_prov['Dial up'].str.replace('.', '')\n"
     ]
    }
   ],
   "source": [
    "#internet_bancha_bangosta_prov\n",
    "# Quitamos separador de miles y convertimos las columnas Banda ancha fija y Dial up en tipo int\n",
    "internet_bancha_bangosta_prov = pd.read_csv('C:/Soy-Henry/Telecomunicaciones/Data/internet_bancha_bangosta_prov.csv')\n",
    "\n",
    "internet_bancha_bangosta_prov['Banda ancha fija'] = internet_bancha_bangosta_prov['Banda ancha fija'].astype('string')\n",
    "internet_bancha_bangosta_prov['Dial up'] = internet_bancha_bangosta_prov['Dial up'].astype('string')\n",
    "\n",
    "internet_bancha_bangosta_prov.loc[internet_bancha_bangosta_prov['Dial up'] == '- 0', 'Dial up'] = '0'\n",
    "internet_bancha_bangosta_prov.loc[internet_bancha_bangosta_prov['Dial up'].isnull(), 'Dial up'] = '0'\n",
    "\n",
    "internet_bancha_bangosta_prov['Banda ancha fija'] = internet_bancha_bangosta_prov['Banda ancha fija'].str.replace('.', '')\n",
    "internet_bancha_bangosta_prov['Dial up'] = internet_bancha_bangosta_prov['Dial up'].str.replace('.', '')\n",
    "\n",
    "internet_bancha_bangosta_prov['Banda ancha fija'] = internet_bancha_bangosta_prov['Banda ancha fija'].astype('int')\n",
    "internet_bancha_bangosta_prov['Dial up'] = internet_bancha_bangosta_prov['Dial up'].astype('int')\n",
    "internet_bancha_bangosta_prov.to_csv('C:/Soy-Henry/Telecomunicaciones/Data/internet_bancha_bangosta_prov.csv',index=False)"
   ]
  },
  {
   "cell_type": "markdown",
   "metadata": {},
   "source": [
    "Fin del proceso de ETL"
   ]
  }
 ],
 "metadata": {
  "kernelspec": {
   "display_name": "Python 3",
   "language": "python",
   "name": "python3"
  },
  "language_info": {
   "codemirror_mode": {
    "name": "ipython",
    "version": 3
   },
   "file_extension": ".py",
   "mimetype": "text/x-python",
   "name": "python",
   "nbconvert_exporter": "python",
   "pygments_lexer": "ipython3",
   "version": "3.11.3"
  },
  "orig_nbformat": 4
 },
 "nbformat": 4,
 "nbformat_minor": 2
}
