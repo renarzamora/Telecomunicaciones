{
 "cells": [
  {
   "cell_type": "code",
   "execution_count": 1,
   "metadata": {},
   "outputs": [],
   "source": [
    "import pandas as pd\n",
    "import mysql.connector\n",
    "from mysql.connector import Error\n",
    "import numpy as np"
   ]
  },
  {
   "cell_type": "markdown",
   "metadata": {},
   "source": [
    "### Creamos y cargamos el dataset Denuncias_y_reclamos_202306 en MySql"
   ]
  },
  {
   "cell_type": "code",
   "execution_count": 5,
   "metadata": {},
   "outputs": [
    {
     "name": "stdout",
     "output_type": "stream",
     "text": [
      "Tabla creada exitosamente\n",
      "Datos cargados exitosamente\n",
      "Conexión a MySQL cerrada\n"
     ]
    }
   ],
   "source": [
    "denuncias_reclamos = pd.read_csv('C:\\Soy-Henry\\Telecomunicaciones\\Data\\Denuncias_y_reclamos_202306.csv')\n",
    "try:\n",
    "    conn = mysql.connector.connect(\n",
    "        host='localhost',\n",
    "        database='telecomunicaciones',\n",
    "        user='root',\n",
    "        password='1971@Raz51'\n",
    "    )\n",
    "except Error as e:\n",
    "    print(\"Error al conectar a MySQL:\", e)\n",
    "\n",
    "try:\n",
    "    cursor = conn.cursor()\n",
    "    cursor.execute('DROP TABLE IF EXISTS Denuncias_y_reclamos_202306')\n",
    "    cursor.execute('CREATE TABLE Denuncias_y_reclamos_202306 (Servicio VARCHAR(255), Cantidad INT)')\n",
    "    print(\"Tabla creada exitosamente\")\n",
    "except Error as e:\n",
    "    print(\"Error al crear la tabla:\", e)\n",
    "    \n",
    "try:\n",
    "    cursor = conn.cursor()\n",
    "    for index, row in denuncias_reclamos.iterrows():\n",
    "        cursor.execute(\"INSERT INTO Denuncias_y_reclamos_202306 (Servicio, Cantidad) VALUES (%s, %s)\",\n",
    "                       (row['Servicio'], row['Cantidad']))\n",
    "    conn.commit()\n",
    "    print(\"Datos cargados exitosamente\")\n",
    "except Error as e:\n",
    "    print(\"Error al cargar los datos:\", e)\n",
    "    \n",
    "if conn.is_connected():\n",
    "    cursor.close()\n",
    "    conn.close()\n",
    "    print(\"Conexión a MySQL cerrada\")    "
   ]
  },
  {
   "cell_type": "markdown",
   "metadata": {},
   "source": [
    "### Creamos y cargamos el dataset internet_fijo_poblacion_hogar en MySql "
   ]
  },
  {
   "cell_type": "code",
   "execution_count": 19,
   "metadata": {},
   "outputs": [
    {
     "name": "stdout",
     "output_type": "stream",
     "text": [
      "Tabla creada exitosamente\n",
      "Datos cargados exitosamente\n",
      "Conexión a MySQL cerrada\n"
     ]
    }
   ],
   "source": [
    "internet_fijo_poblacion_hogar = pd.read_csv('C:\\Soy-Henry\\Telecomunicaciones\\Data\\internet_fijo_poblacion_hogar.csv')\n",
    "try:\n",
    "    conn = mysql.connector.connect(\n",
    "        host='localhost',\n",
    "        database='telecomunicaciones',\n",
    "        user='root',\n",
    "        password='1971@Raz51'\n",
    "    )\n",
    "except Error as e:\n",
    "    print(\"Error al conectar a MySQL:\", e)\n",
    "\n",
    "try:\n",
    "    cursor = conn.cursor()\n",
    "    cursor.execute('DROP TABLE IF EXISTS internet_fijo_poblacion_hogar')\n",
    "    cursor.execute('CREATE TABLE internet_fijo_poblacion_hogar (Año smallint ,Trimestre smallint, Accesos_100_hogares Float(6.2) ,Accesos_100_hab Float(6.2), Periodo VARCHAR(255))')\n",
    "    print(\"Tabla creada exitosamente\")\n",
    "except Error as e:\n",
    "    print(\"Error al crear la tabla:\", e)\n",
    "    \n",
    "try:\n",
    "    cursor = conn.cursor()\n",
    "    for index, row in internet_fijo_poblacion_hogar.iterrows():\n",
    "        cursor.execute(\"INSERT INTO internet_fijo_poblacion_hogar (Año,Trimestre,Accesos_100_hogares, Accesos_100_hab, Periodo) VALUES (%s, %s, %s, %s, %s)\",\n",
    "                       (row['Año'], row['Trimestre'], row['Accesos por cada 100 hogares'], row['Accesos por cada 100 hab'], row['Periodo']))\n",
    "    conn.commit()\n",
    "    print(\"Datos cargados exitosamente\")\n",
    "except Error as e:\n",
    "    print(\"Error al cargar los datos:\", e)\n",
    "    \n",
    "if conn.is_connected():\n",
    "    cursor.close()\n",
    "    conn.close()\n",
    "    print(\"Conexión a MySQL cerrada\")   "
   ]
  },
  {
   "cell_type": "markdown",
   "metadata": {},
   "source": [
    "### Creamos y cargamos el dataset ingreso_internet_fijo_trimestral en MySql "
   ]
  },
  {
   "cell_type": "code",
   "execution_count": 21,
   "metadata": {},
   "outputs": [
    {
     "name": "stdout",
     "output_type": "stream",
     "text": [
      "Tabla creada exitosamente\n",
      "Datos cargados exitosamente\n",
      "Conexión a MySQL cerrada\n"
     ]
    }
   ],
   "source": [
    "ingreso_internet_fijo_trimestral = pd.read_csv('C:\\Soy-Henry\\Telecomunicaciones\\Data\\ingreso_internet_fijo_trimestral.csv')\n",
    "try:\n",
    "    conn = mysql.connector.connect(\n",
    "        host='localhost',\n",
    "        database='telecomunicaciones',\n",
    "        user='root',\n",
    "        password='1971@Raz51'\n",
    "    )\n",
    "except Error as e:\n",
    "    print(\"Error al conectar a MySQL:\", e)\n",
    "\n",
    "try:\n",
    "    cursor = conn.cursor()\n",
    "    cursor.execute('DROP TABLE IF EXISTS ingreso_internet_fijo_trimestral')\n",
    "    cursor.execute('CREATE TABLE ingreso_internet_fijo_trimestral (Año smallint ,Trimestre smallint, ingresos_tri Float(6.2) , Periodo VARCHAR(255))')\n",
    "    print(\"Tabla creada exitosamente\")\n",
    "except Error as e:\n",
    "    print(\"Error al crear la tabla:\", e)\n",
    "    \n",
    "try:\n",
    "    cursor = conn.cursor()\n",
    "    for index, row in ingreso_internet_fijo_trimestral.iterrows():\n",
    "        cursor.execute(\"INSERT INTO ingreso_internet_fijo_trimestral (Año,Trimestre,ingresos_tri, Periodo) VALUES (%s, %s, %s, %s)\",\n",
    "                       (row['Año'], row['Trimestre'], row['Ingresos (miles de pesos)'], row['Periodo']))\n",
    "    conn.commit()\n",
    "    print(\"Datos cargados exitosamente\")\n",
    "except Error as e:\n",
    "    print(\"Error al cargar los datos:\", e)\n",
    "    \n",
    "if conn.is_connected():\n",
    "    cursor.close()\n",
    "    conn.close()\n",
    "    print(\"Conexión a MySQL cerrada\")   "
   ]
  },
  {
   "cell_type": "markdown",
   "metadata": {},
   "source": [
    "### ### Creamos y cargamos el dataset internet_rango_vel  en MySql "
   ]
  },
  {
   "cell_type": "code",
   "execution_count": 27,
   "metadata": {},
   "outputs": [
    {
     "name": "stdout",
     "output_type": "stream",
     "text": [
      "Tabla creada exitosamente\n",
      "Datos cargados exitosamente\n",
      "Conexión a MySQL cerrada\n"
     ]
    }
   ],
   "source": [
    "internet_rango_vel = pd.read_csv('C:\\Soy-Henry\\Telecomunicaciones\\Data\\internet_rango_vel.csv')\n",
    "internet_rango_vel = internet_rango_vel.astype(\"string\", errors=\"ignore\")\n",
    "try:\n",
    "    conn = mysql.connector.connect(\n",
    "        host='localhost',\n",
    "        database='telecomunicaciones',\n",
    "        user='root',\n",
    "        password='1971@Raz51'\n",
    "    )\n",
    "except Error as e:\n",
    "    print(\"Error al conectar a MySQL:\", e)\n",
    "\n",
    "try:\n",
    "    cursor = conn.cursor()\n",
    "    cursor.execute('DROP TABLE IF EXISTS internet_rango_vel')\n",
    "    cursor.execute('CREATE TABLE internet_rango_vel (Año int ,Trimestre int, 512kbps int, E_512Kbps_1Mbps int, E_1Mbps_6Mbps int ,E_6_10Mbps int, E_10_20Mbps int, E_20_30Mbps int, Mas_30Mbps int ,OTROS int)')\n",
    "    print(\"Tabla creada exitosamente\")\n",
    "except Error as e:\n",
    "    print(\"Error al crear la tabla:\", e)\n",
    "    \n",
    "try:\n",
    "    cursor = conn.cursor()\n",
    "    for index, row in internet_rango_vel.iterrows():\n",
    "        cursor.execute(\"INSERT INTO internet_rango_vel (Año,Trimestre,512kbps,E_512Kbps_1Mbps,E_1Mbps_6Mbps,E_6_10Mbps,E_10_20Mbps,E_20_30Mbps,Mas_30Mbps,OTROS) VALUES (%s, %s, %s, %s, %s, %s, %s, %s, %s, %s)\",\n",
    "                        (row['Año'], row['Trimestre'], row['Hasta 512 kbps'], row['Entre 512 Kbps y 1 Mbps'], row['Entre 1 Mbps y 6 Mbps'], row['Entre 6 Mbps y 10 Mbps'], row['Entre 10 Mbps y 20 Mbps'], row['Entre 20 Mbps y 30 Mbps'], row['Más de 30 Mbps'], row['OTROS']))\n",
    "\n",
    "    conn.commit()\n",
    "    print(\"Datos cargados exitosamente\")\n",
    "except Error as e:\n",
    "    print(\"Error al cargar los datos:\", e)\n",
    "    \n",
    "if conn.is_connected():\n",
    "    cursor.close()\n",
    "    conn.close()\n",
    "    print(\"Conexión a MySQL cerrada\")   "
   ]
  },
  {
   "cell_type": "markdown",
   "metadata": {},
   "source": [
    "### ### Creamos y cargamos el dataset internet_tecno_nacional  en MySql  \n"
   ]
  },
  {
   "cell_type": "code",
   "execution_count": 30,
   "metadata": {},
   "outputs": [
    {
     "name": "stdout",
     "output_type": "stream",
     "text": [
      "Tabla creada exitosamente\n",
      "Datos cargados exitosamente\n",
      "Conexión a MySQL cerrada\n"
     ]
    }
   ],
   "source": [
    "internet_tecno_nacional = pd.read_csv('C:\\Soy-Henry\\Telecomunicaciones\\Data\\internet_tecno_nacional.csv')\n",
    "#internet_tecno_nacional = internet_tecno_nacional.astype(\"string\", errors=\"ignore\")\n",
    "try:\n",
    "    conn = mysql.connector.connect(\n",
    "        host='localhost',\n",
    "        database='telecomunicaciones',\n",
    "        user='root',\n",
    "        password='1971@Raz51'\n",
    "    )\n",
    "except Error as e:\n",
    "    print(\"Error al conectar a MySQL:\", e)\n",
    "\n",
    "try:\n",
    "    cursor = conn.cursor()\n",
    "    cursor.execute('DROP TABLE IF EXISTS internet_tecno_nacional')\n",
    "    cursor.execute('CREATE TABLE internet_tecno_nacional (Año int ,Trimestre int, ADSL int, Cablemodem int, Fibrao int ,Wireless int, Otros int, Total int, Periodo varchar(50))')\n",
    "    print(\"Tabla creada exitosamente\")\n",
    "except Error as e:\n",
    "    print(\"Error al crear la tabla:\", e)\n",
    "    \n",
    "try:\n",
    "    cursor = conn.cursor()\n",
    "    for index, row in internet_tecno_nacional.iterrows():\n",
    "        cursor.execute(\"INSERT INTO internet_tecno_nacional (Año,Trimestre, ADSL, Cablemodem, Fibrao,Wireless, Otros, Total, Periodo) VALUES (%s, %s, %s, %s, %s, %s, %s, %s, %s)\",\n",
    "                        (row['Año'], row['Trimestre'], row['ADSL'], row['Cablemodem'], row['Fibra óptica'], row['Wireless'], row['Otros'], row['Total'], row['Periodo']))\n",
    "\n",
    "    conn.commit()\n",
    "    print(\"Datos cargados exitosamente\")\n",
    "except Error as e:\n",
    "    print(\"Error al cargar los datos:\", e)\n",
    "    \n",
    "if conn.is_connected():\n",
    "    cursor.close()\n",
    "    conn.close()\n",
    "    print(\"Conexión a MySQL cerrada\")   \n",
    "\n"
   ]
  },
  {
   "cell_type": "markdown",
   "metadata": {},
   "source": [
    "### Creamos la tabla y cargamos el dataset veloc_media_nacional en MySql"
   ]
  },
  {
   "cell_type": "code",
   "execution_count": 32,
   "metadata": {},
   "outputs": [
    {
     "name": "stdout",
     "output_type": "stream",
     "text": [
      "Tabla creada exitosamente\n",
      "Datos cargados exitosamente\n",
      "Conexión a MySQL cerrada\n"
     ]
    }
   ],
   "source": [
    "#veloc_media_nacional\n",
    "# Año,Trimestre,Mbps (Media de bajada),Trimestre.1\n",
    "veloc_media_nacional = pd.read_csv('C:/Soy-Henry/Telecomunicaciones/Data/veloc_media_nacional.csv')\n",
    "#internet_tecno_nacional = internet_tecno_nacional.astype(\"string\", errors=\"ignore\")\n",
    "try:\n",
    "    conn = mysql.connector.connect(\n",
    "        host='localhost',\n",
    "        database='telecomunicaciones',\n",
    "        user='root',\n",
    "        password='1971@Raz51'\n",
    "    )\n",
    "except Error as e:\n",
    "    print(\"Error al conectar a MySQL:\", e)\n",
    "\n",
    "try:\n",
    "    cursor = conn.cursor()\n",
    "    cursor.execute('DROP TABLE IF EXISTS veloc_media_nacional')\n",
    "    cursor.execute('CREATE TABLE veloc_media_nacional (Año int ,Trimestre int, Media_Mbps Float(6.2), Trimestre_desc varchar(50))')\n",
    "    print(\"Tabla creada exitosamente\")\n",
    "except Error as e:\n",
    "    print(\"Error al crear la tabla:\", e)\n",
    "    \n",
    "try:\n",
    "    cursor = conn.cursor()\n",
    "    for index, row in veloc_media_nacional.iterrows():\n",
    "        cursor.execute(\"INSERT INTO veloc_media_nacional (Año,Trimestre, Media_Mbps, Trimestre_desc) VALUES (%s, %s, %s, %s)\",\n",
    "                        (row['Año'], row['Trimestre'], row['Mbps (Media de bajada)'], row['Trimestre.1']))\n",
    "\n",
    "    conn.commit()\n",
    "    print(\"Datos cargados exitosamente\")\n",
    "except Error as e:\n",
    "    print(\"Error al cargar los datos:\", e)\n",
    "    \n",
    "if conn.is_connected():\n",
    "    cursor.close()\n",
    "    conn.close()\n",
    "    print(\"Conexión a MySQL cerrada\")   "
   ]
  },
  {
   "cell_type": "markdown",
   "metadata": {},
   "source": [
    "### Creamos la tabla y cargamos el dataset internet_fijo_tecno_loc en MySql"
   ]
  },
  {
   "cell_type": "code",
   "execution_count": 10,
   "metadata": {},
   "outputs": [
    {
     "name": "stdout",
     "output_type": "stream",
     "text": [
      "Tabla creada exitosamente\n",
      "Datos cargados exitosamente\n",
      "Conexión a MySQL cerrada\n"
     ]
    }
   ],
   "source": [
    "# internet_fijo_tecno_loc\n",
    "# Provincia,Partido,Localidad,Link Indec,ADSL,CABLEMODEM,DIAL UP,FIBRA OPTICA,OTROS,SATELITAL,WIMAX,WIRELESS,Total general\n",
    "\n",
    "internet_fijo_tecno_loc = pd.read_csv('C:/Soy-Henry/Telecomunicaciones/Data/internet_fijo_tecno_loc.csv')\n",
    "\n",
    "try:\n",
    "    conn = mysql.connector.connect(\n",
    "        host='localhost',\n",
    "        database='telecomunicaciones',\n",
    "        user='root',\n",
    "        password='1971@Raz51'\n",
    "    )\n",
    "except Error as e:\n",
    "    print(\"Error al conectar a MySQL:\", e)\n",
    "\n",
    "try:\n",
    "    cursor = conn.cursor()\n",
    "    cursor.execute('DROP TABLE IF EXISTS internet_fijo_tecno_loc')\n",
    "    cursor.execute('CREATE TABLE internet_fijo_tecno_loc (Provincia varchar(30) ,Partido varchar(50), Localidad varchar(100), Link_Indec varchar(10), ADSL int, CABLEMODEM int, DIAL_UP int, FIBRA_OPTICA int, OTROS int, SATELITAL int, WIMAX int, Wireless int)')\n",
    "    print(\"Tabla creada exitosamente\")\n",
    "except Error as e:\n",
    "    print(\"Error al crear la tabla:\", e)\n",
    "    \n",
    "try:\n",
    "    cursor = conn.cursor()\n",
    "    for index, row in internet_fijo_tecno_loc.iterrows():\n",
    "        cursor.execute(\"INSERT INTO internet_fijo_tecno_loc (Provincia,Partido,Localidad,Link_Indec,ADSL,CABLEMODEM,DIAL_UP,FIBRA_OPTICA,OTROS,SATELITAL,WIMAX,Wireless) VALUES (%s, %s, %s, %s, %s, %s, %s, %s, %s, %s, %s, %s)\",\n",
    "                        (row['Provincia'], row['Partido'], row['Localidad'], row['Link Indec'], row['ADSL'], row['CABLEMODEM'], row['DIAL UP'], row['FIBRA OPTICA'], row['OTROS'], row['SATELITAL'], row['WIMAX'], row['WIRELESS']))\n",
    "\n",
    "    conn.commit()\n",
    "    print(\"Datos cargados exitosamente\")\n",
    "except Error as e:\n",
    "    print(\"Error al cargar los datos:\", e)\n",
    "    \n",
    "if conn.is_connected():\n",
    "    cursor.close()\n",
    "    conn.close()\n",
    "    print(\"Conexión a MySQL cerrada\")   "
   ]
  },
  {
   "cell_type": "code",
   "execution_count": 5,
   "metadata": {},
   "outputs": [
    {
     "name": "stdout",
     "output_type": "stream",
     "text": [
      "Tabla creada exitosamente\n",
      "Datos cargados exitosamente\n",
      "Conexión a MySQL cerrada\n"
     ]
    }
   ],
   "source": [
    "internet_bancha_bangosta_prov = pd.read_csv('C:/Soy-Henry/Telecomunicaciones/Data/internet_bancha_bangosta_prov.csv')\n",
    "\n",
    "try:\n",
    "    conn = mysql.connector.connect(\n",
    "        host='localhost',\n",
    "        database='telecomunicaciones',\n",
    "        user='root',\n",
    "        password='1971@Raz51'\n",
    "    )\n",
    "except Error as e:\n",
    "    print(\"Error al conectar a MySQL:\", e)\n",
    "\n",
    "try:\n",
    "    cursor = conn.cursor()\n",
    "    cursor.execute('DROP TABLE IF EXISTS internet_bancha_bangosta_prov')\n",
    "    cursor.execute('CREATE TABLE internet_bancha_bangosta_prov (Año int ,Trimestre int ,Provincia varchar(50) ,Banda_ancha_fija int,Dial_up int)')\n",
    "    print(\"Tabla creada exitosamente\")\n",
    "except Error as e:\n",
    "    print(\"Error al crear la tabla:\", e)\n",
    "    \n",
    "try:\n",
    "    cursor = conn.cursor()\n",
    "    for index, row in internet_bancha_bangosta_prov.iterrows():\n",
    "        cursor.execute(\"INSERT INTO internet_bancha_bangosta_prov (Año,Trimestre,Provincia,Banda_ancha_fija,Dial_up) VALUES (%s, %s, %s, %s, %s)\",\n",
    "                        (row['Año'], row['Trimestre'], row['Provincia'], row['Banda ancha fija'], row['Dial up']))\n",
    "\n",
    "    conn.commit()\n",
    "    print(\"Datos cargados exitosamente\")\n",
    "except Error as e:\n",
    "    print(\"Error al cargar los datos:\", e)\n",
    "    \n",
    "if conn.is_connected():\n",
    "    cursor.close()\n",
    "    conn.close()\n",
    "    print(\"Conexión a MySQL cerrada\")   "
   ]
  },
  {
   "cell_type": "code",
   "execution_count": 7,
   "metadata": {},
   "outputs": [
    {
     "name": "stdout",
     "output_type": "stream",
     "text": [
      "Tabla creada exitosamente\n",
      "Datos cargados exitosamente\n",
      "Conexión a MySQL cerrada\n"
     ]
    }
   ],
   "source": [
    "Telefonia_movil = pd.read_csv('C:/Soy-Henry/Telecomunicaciones/Data/Telefonia_movil.csv')\n",
    "\n",
    "try:\n",
    "    conn = mysql.connector.connect(\n",
    "        host='localhost',\n",
    "        database='telecomunicaciones',\n",
    "        user='root',\n",
    "        password='1971@Raz51'\n",
    "    )\n",
    "except Error as e:\n",
    "    print(\"Error al conectar a MySQL:\", e)\n",
    "\n",
    "try:\n",
    "    cursor = conn.cursor()\n",
    "    cursor.execute('DROP TABLE IF EXISTS Telefonia_movil')\n",
    "    cursor.execute('CREATE TABLE Telefonia_movil (Año int ,Trimestre int ,Accesos_100_hab int,Periodo varchar(50))')\n",
    "    print(\"Tabla creada exitosamente\")\n",
    "except Error as e:\n",
    "    print(\"Error al crear la tabla:\", e)\n",
    "    \n",
    "try:\n",
    "    cursor = conn.cursor()\n",
    "    for index, row in Telefonia_movil.iterrows():\n",
    "        cursor.execute(\"INSERT INTO Telefonia_movil (Año,Trimestre,Accesos_100_hab,Periodo) VALUES (%s, %s, %s, %s)\",\n",
    "                        (row['Año'], row['Trimestre'], row['Accesos por cada 100 hab'], row['Periodo']))\n",
    "\n",
    "    conn.commit()\n",
    "    print(\"Datos cargados exitosamente\")\n",
    "except Error as e:\n",
    "    print(\"Error al cargar los datos:\", e)\n",
    "    \n",
    "if conn.is_connected():\n",
    "    cursor.close()\n",
    "    conn.close()\n",
    "    print(\"Conexión a MySQL cerrada\")   "
   ]
  },
  {
   "cell_type": "code",
   "execution_count": 12,
   "metadata": {},
   "outputs": [
    {
     "name": "stdout",
     "output_type": "stream",
     "text": [
      "Tabla creada exitosamente\n",
      "Datos cargados exitosamente\n",
      "Conexión a MySQL cerrada\n"
     ]
    }
   ],
   "source": [
    "tv_penet_suscrip = pd.read_csv('C:\\Soy-Henry\\Telecomunicaciones\\Data\\Tv_penet_suscrip_cada100_hogares.csv')\n",
    "\n",
    "try:\n",
    "    conn = mysql.connector.connect(\n",
    "        host='localhost',\n",
    "        database='telecomunicaciones',\n",
    "        user='root',\n",
    "        password='1971@Raz51'\n",
    "    )\n",
    "except Error as e:\n",
    "    print(\"Error al conectar a MySQL:\", e)\n",
    "\n",
    "try:\n",
    "    cursor = conn.cursor()\n",
    "    cursor.execute('DROP TABLE IF EXISTS tv_penet_suscrip')\n",
    "    cursor.execute('CREATE TABLE tv_penet_suscrip (Año int ,Trimestre int ,Provincia varchar(50),Accesos_TV_100_hab int,Accesos_TV_100_hogar int)')\n",
    "    print(\"Tabla creada exitosamente\")\n",
    "except Error as e:\n",
    "    print(\"Error al crear la tabla:\", e)\n",
    "    \n",
    "try:\n",
    "    cursor = conn.cursor()\n",
    "    for index, row in tv_penet_suscrip.iterrows():\n",
    "        cursor.execute(\"INSERT INTO tv_penet_suscrip (Año,Trimestre, Provincia , Accesos_TV_100_hab,Accesos_TV_100_hogar) VALUES (%s, %s, %s, %s, %s)\",\n",
    "                        (row['Año'], row['Trimestre'], row['Provincia'], row['Accesos TV por suscripción por cada 100 hab'], row['Accesos TV por suscripción por cada 100 hogares']))\n",
    "\n",
    "    conn.commit()\n",
    "    print(\"Datos cargados exitosamente\")\n",
    "except Error as e:\n",
    "    print(\"Error al cargar los datos:\", e)\n",
    "    \n",
    "if conn.is_connected():\n",
    "    cursor.close()\n",
    "    conn.close()\n",
    "    print(\"Conexión a MySQL cerrada\")   "
   ]
  },
  {
   "cell_type": "code",
   "execution_count": 14,
   "metadata": {},
   "outputs": [
    {
     "name": "stdout",
     "output_type": "stream",
     "text": [
      "Tabla creada exitosamente\n",
      "Datos cargados exitosamente\n",
      "Conexión a MySQL cerrada\n"
     ]
    }
   ],
   "source": [
    "Telefonia_movil_ingresos_trimestrales = pd.read_csv('C:\\Soy-Henry\\Telecomunicaciones\\Data\\Telefonia_movil_ingresos_trimestrales.csv')\n",
    "\n",
    "try:\n",
    "    conn = mysql.connector.connect(\n",
    "        host='localhost',\n",
    "        database='telecomunicaciones',\n",
    "        user='root',\n",
    "        password='1971@Raz51'\n",
    "    )\n",
    "except Error as e:\n",
    "    print(\"Error al conectar a MySQL:\", e)\n",
    "\n",
    "try:\n",
    "    cursor = conn.cursor()\n",
    "    cursor.execute('DROP TABLE IF EXISTS Telefonia_movil_ingresos_trimestrales')\n",
    "    cursor.execute('CREATE TABLE Telefonia_movil_ingresos_trimestrales (Año int ,Trimestre int ,Ingresos_movil float(9.2),Periodo varchar(40))')\n",
    "    print(\"Tabla creada exitosamente\")\n",
    "except Error as e:\n",
    "    print(\"Error al crear la tabla:\", e)\n",
    "    \n",
    "try:\n",
    "    cursor = conn.cursor()\n",
    "    for index, row in Telefonia_movil_ingresos_trimestrales.iterrows():\n",
    "        cursor.execute(\"INSERT INTO Telefonia_movil_ingresos_trimestrales (Año,Trimestre, Ingresos_movil , Periodo) VALUES (%s, %s, %s, %s)\",\n",
    "                        (row['Año'], row['Trimestre'], row['Ingresos (miles de $)'], row['Periodo']))\n",
    "\n",
    "    conn.commit()\n",
    "    print(\"Datos cargados exitosamente\")\n",
    "except Error as e:\n",
    "    print(\"Error al cargar los datos:\", e)\n",
    "    \n",
    "if conn.is_connected():\n",
    "    cursor.close()\n",
    "    conn.close()\n",
    "    print(\"Conexión a MySQL cerrada\")   \n"
   ]
  },
  {
   "cell_type": "code",
   "execution_count": 16,
   "metadata": {},
   "outputs": [
    {
     "name": "stdout",
     "output_type": "stream",
     "text": [
      "Tabla creada exitosamente\n",
      "Datos cargados exitosamente\n",
      "Conexión a MySQL cerrada\n"
     ]
    }
   ],
   "source": [
    "# Ing_trim__servicios_tv_paga.csv\n",
    "# Año,Trimestre,Ingresos TV por suscripción  (miles de $),Ingresos TV satelital (miles de $)\n",
    "\n",
    "Ing_trim__servicios_tv_paga = pd.read_csv('C:\\Soy-Henry\\Telecomunicaciones\\Data\\Ing_trim__servicios_tv_paga.csv')\n",
    "\n",
    "try:\n",
    "    conn = mysql.connector.connect(\n",
    "        host='localhost',\n",
    "        database='telecomunicaciones',\n",
    "        user='root',\n",
    "        password='1971@Raz51'\n",
    "    )\n",
    "except Error as e:\n",
    "    print(\"Error al conectar a MySQL:\", e)\n",
    "\n",
    "try:\n",
    "    cursor = conn.cursor()\n",
    "    cursor.execute('DROP TABLE IF EXISTS Ing_trim__servicios_tv_paga')\n",
    "    cursor.execute('CREATE TABLE Ing_trim__servicios_tv_paga (Año int ,Trimestre int ,Ingresos_tv_sus float(9.2),Ingresos_tv_sat float(9.2))')\n",
    "    print(\"Tabla creada exitosamente\")\n",
    "except Error as e:\n",
    "    print(\"Error al crear la tabla:\", e)\n",
    "    \n",
    "try:\n",
    "    cursor = conn.cursor()\n",
    "    for index, row in Ing_trim__servicios_tv_paga.iterrows():\n",
    "        cursor.execute(\"INSERT INTO Ing_trim__servicios_tv_paga (Año,Trimestre, Ingresos_tv_sus , Ingresos_tv_sat) VALUES (%s, %s, %s, %s)\",\n",
    "                        (row['Año'], row['Trimestre'], row['Ingresos TV por suscripción  (miles de $)'], row['Ingresos TV satelital (miles de $)']))\n",
    "\n",
    "    conn.commit()\n",
    "    print(\"Datos cargados exitosamente\")\n",
    "except Error as e:\n",
    "    print(\"Error al cargar los datos:\", e)\n",
    "    \n",
    "if conn.is_connected():\n",
    "    cursor.close()\n",
    "    conn.close()\n",
    "    print(\"Conexión a MySQL cerrada\")   \n",
    "\n"
   ]
  }
 ],
 "metadata": {
  "kernelspec": {
   "display_name": "Python 3",
   "language": "python",
   "name": "python3"
  },
  "language_info": {
   "codemirror_mode": {
    "name": "ipython",
    "version": 3
   },
   "file_extension": ".py",
   "mimetype": "text/x-python",
   "name": "python",
   "nbconvert_exporter": "python",
   "pygments_lexer": "ipython3",
   "version": "3.11.3"
  },
  "orig_nbformat": 4
 },
 "nbformat": 4,
 "nbformat_minor": 2
}
